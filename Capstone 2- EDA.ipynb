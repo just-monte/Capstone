{
 "cells": [
  {
   "cell_type": "markdown",
   "id": "dc16d1b1",
   "metadata": {},
   "source": [
    "## Imports"
   ]
  },
  {
   "cell_type": "code",
   "execution_count": 1,
   "id": "8adf346b",
   "metadata": {},
   "outputs": [],
   "source": [
    "import pandas as pd\n",
    "import numpy as np\n",
    "import os\n",
    "import matplotlib.pyplot as plt\n",
    "import seaborn as sns\n",
    "from sklearn.decomposition import PCA\n",
    "from sklearn.preprocessing import scale"
   ]
  },
  {
   "cell_type": "markdown",
   "id": "8677c9a0",
   "metadata": {},
   "source": [
    "## Load the Data "
   ]
  },
  {
   "cell_type": "code",
   "execution_count": 2,
   "id": "0f3497a4",
   "metadata": {},
   "outputs": [],
   "source": [
    "student_data = pd.read_csv(r'C:\\Users\\Desktop\\USF-DS\\educationstats.csv')"
   ]
  },
  {
   "cell_type": "code",
   "execution_count": 3,
   "id": "c08ca89e",
   "metadata": {},
   "outputs": [
    {
     "name": "stdout",
     "output_type": "stream",
     "text": [
      "<class 'pandas.core.frame.DataFrame'>\n",
      "RangeIndex: 4424 entries, 0 to 4423\n",
      "Data columns (total 41 columns):\n",
      " #   Column                                          Non-Null Count  Dtype  \n",
      "---  ------                                          --------------  -----  \n",
      " 0   Unnamed: 0                                      4424 non-null   int64  \n",
      " 1   Marital status                                  4424 non-null   int64  \n",
      " 2   Application mode                                4424 non-null   int64  \n",
      " 3   Application order                               4424 non-null   int64  \n",
      " 4   Course                                          4424 non-null   int64  \n",
      " 5   Daytime/evening attendance\t                     4424 non-null   int64  \n",
      " 6   Previous qualification                          4424 non-null   int64  \n",
      " 7   Previous qualification (grade)                  4424 non-null   float64\n",
      " 8   Nacionality                                     4424 non-null   int64  \n",
      " 9   Mother's qualification                          4424 non-null   int64  \n",
      " 10  Father's qualification                          4424 non-null   int64  \n",
      " 11  Mother's occupation                             4424 non-null   int64  \n",
      " 12  Father's occupation                             4424 non-null   int64  \n",
      " 13  Admission grade                                 4424 non-null   float64\n",
      " 14  Displaced                                       4424 non-null   int64  \n",
      " 15  Educational special needs                       4424 non-null   int64  \n",
      " 16  Debtor                                          4424 non-null   int64  \n",
      " 17  Tuition fees up to date                         4424 non-null   int64  \n",
      " 18  Gender                                          4424 non-null   int64  \n",
      " 19  Scholarship holder                              4424 non-null   int64  \n",
      " 20  Age at enrollment                               4424 non-null   int64  \n",
      " 21  International                                   4424 non-null   int64  \n",
      " 22  Curricular units 1st sem (credited)             4424 non-null   int64  \n",
      " 23  Curricular units 1st sem (enrolled)             4424 non-null   int64  \n",
      " 24  Curricular units 1st sem (evaluations)          4424 non-null   int64  \n",
      " 25  Curricular units 1st sem (approved)             4424 non-null   int64  \n",
      " 26  Curricular units 1st sem (grade)                4424 non-null   float64\n",
      " 27  Curricular units 1st sem (without evaluations)  4424 non-null   int64  \n",
      " 28  Curricular units 2nd sem (credited)             4424 non-null   int64  \n",
      " 29  Curricular units 2nd sem (enrolled)             4424 non-null   int64  \n",
      " 30  Curricular units 2nd sem (evaluations)          4424 non-null   int64  \n",
      " 31  Curricular units 2nd sem (approved)             4424 non-null   int64  \n",
      " 32  Curricular units 2nd sem (grade)                4424 non-null   float64\n",
      " 33  Curricular units 2nd sem (without evaluations)  4424 non-null   int64  \n",
      " 34  Unemployment rate                               4424 non-null   float64\n",
      " 35  Inflation rate                                  4424 non-null   float64\n",
      " 36  GDP                                             4424 non-null   float64\n",
      " 37  Target                                          4424 non-null   object \n",
      " 38  Country Name                                    4424 non-null   object \n",
      " 39  Adj net enrollment of lower secondary           4424 non-null   float64\n",
      " 40  Tertiary educ enrollment(all programs)          4424 non-null   float64\n",
      "dtypes: float64(9), int64(30), object(2)\n",
      "memory usage: 1.4+ MB\n"
     ]
    }
   ],
   "source": [
    "student_data.info()"
   ]
  },
  {
   "cell_type": "code",
   "execution_count": 4,
   "id": "9edbd2ac",
   "metadata": {},
   "outputs": [
    {
     "data": {
      "text/html": [
       "<div>\n",
       "<style scoped>\n",
       "    .dataframe tbody tr th:only-of-type {\n",
       "        vertical-align: middle;\n",
       "    }\n",
       "\n",
       "    .dataframe tbody tr th {\n",
       "        vertical-align: top;\n",
       "    }\n",
       "\n",
       "    .dataframe thead th {\n",
       "        text-align: right;\n",
       "    }\n",
       "</style>\n",
       "<table border=\"1\" class=\"dataframe\">\n",
       "  <thead>\n",
       "    <tr style=\"text-align: right;\">\n",
       "      <th></th>\n",
       "      <th>Unnamed: 0</th>\n",
       "      <th>Marital status</th>\n",
       "      <th>Application mode</th>\n",
       "      <th>Application order</th>\n",
       "      <th>Course</th>\n",
       "      <th>Daytime/evening attendance\\t</th>\n",
       "      <th>Previous qualification</th>\n",
       "      <th>Previous qualification (grade)</th>\n",
       "      <th>Nacionality</th>\n",
       "      <th>Mother's qualification</th>\n",
       "      <th>...</th>\n",
       "      <th>Curricular units 2nd sem (approved)</th>\n",
       "      <th>Curricular units 2nd sem (grade)</th>\n",
       "      <th>Curricular units 2nd sem (without evaluations)</th>\n",
       "      <th>Unemployment rate</th>\n",
       "      <th>Inflation rate</th>\n",
       "      <th>GDP</th>\n",
       "      <th>Target</th>\n",
       "      <th>Country Name</th>\n",
       "      <th>Adj net enrollment of lower secondary</th>\n",
       "      <th>Tertiary educ enrollment(all programs)</th>\n",
       "    </tr>\n",
       "  </thead>\n",
       "  <tbody>\n",
       "    <tr>\n",
       "      <th>0</th>\n",
       "      <td>0</td>\n",
       "      <td>1</td>\n",
       "      <td>17</td>\n",
       "      <td>5</td>\n",
       "      <td>171</td>\n",
       "      <td>1</td>\n",
       "      <td>1</td>\n",
       "      <td>122.0</td>\n",
       "      <td>1</td>\n",
       "      <td>19</td>\n",
       "      <td>...</td>\n",
       "      <td>0</td>\n",
       "      <td>0.000000</td>\n",
       "      <td>0</td>\n",
       "      <td>10.8</td>\n",
       "      <td>1.4</td>\n",
       "      <td>1.74</td>\n",
       "      <td>Dropout</td>\n",
       "      <td>Portugal</td>\n",
       "      <td>85.185539</td>\n",
       "      <td>362200.0</td>\n",
       "    </tr>\n",
       "    <tr>\n",
       "      <th>1</th>\n",
       "      <td>1</td>\n",
       "      <td>1</td>\n",
       "      <td>15</td>\n",
       "      <td>1</td>\n",
       "      <td>9254</td>\n",
       "      <td>1</td>\n",
       "      <td>1</td>\n",
       "      <td>160.0</td>\n",
       "      <td>1</td>\n",
       "      <td>1</td>\n",
       "      <td>...</td>\n",
       "      <td>6</td>\n",
       "      <td>13.666667</td>\n",
       "      <td>0</td>\n",
       "      <td>13.9</td>\n",
       "      <td>-0.3</td>\n",
       "      <td>0.79</td>\n",
       "      <td>Graduate</td>\n",
       "      <td>Portugal</td>\n",
       "      <td>85.185539</td>\n",
       "      <td>362200.0</td>\n",
       "    </tr>\n",
       "    <tr>\n",
       "      <th>2</th>\n",
       "      <td>2</td>\n",
       "      <td>1</td>\n",
       "      <td>1</td>\n",
       "      <td>5</td>\n",
       "      <td>9070</td>\n",
       "      <td>1</td>\n",
       "      <td>1</td>\n",
       "      <td>122.0</td>\n",
       "      <td>1</td>\n",
       "      <td>37</td>\n",
       "      <td>...</td>\n",
       "      <td>0</td>\n",
       "      <td>0.000000</td>\n",
       "      <td>0</td>\n",
       "      <td>10.8</td>\n",
       "      <td>1.4</td>\n",
       "      <td>1.74</td>\n",
       "      <td>Dropout</td>\n",
       "      <td>Portugal</td>\n",
       "      <td>85.185539</td>\n",
       "      <td>362200.0</td>\n",
       "    </tr>\n",
       "    <tr>\n",
       "      <th>3</th>\n",
       "      <td>3</td>\n",
       "      <td>1</td>\n",
       "      <td>17</td>\n",
       "      <td>2</td>\n",
       "      <td>9773</td>\n",
       "      <td>1</td>\n",
       "      <td>1</td>\n",
       "      <td>122.0</td>\n",
       "      <td>1</td>\n",
       "      <td>38</td>\n",
       "      <td>...</td>\n",
       "      <td>5</td>\n",
       "      <td>12.400000</td>\n",
       "      <td>0</td>\n",
       "      <td>9.4</td>\n",
       "      <td>-0.8</td>\n",
       "      <td>-3.12</td>\n",
       "      <td>Graduate</td>\n",
       "      <td>Portugal</td>\n",
       "      <td>85.185539</td>\n",
       "      <td>362200.0</td>\n",
       "    </tr>\n",
       "    <tr>\n",
       "      <th>4</th>\n",
       "      <td>4</td>\n",
       "      <td>2</td>\n",
       "      <td>39</td>\n",
       "      <td>1</td>\n",
       "      <td>8014</td>\n",
       "      <td>0</td>\n",
       "      <td>1</td>\n",
       "      <td>100.0</td>\n",
       "      <td>1</td>\n",
       "      <td>37</td>\n",
       "      <td>...</td>\n",
       "      <td>6</td>\n",
       "      <td>13.000000</td>\n",
       "      <td>0</td>\n",
       "      <td>13.9</td>\n",
       "      <td>-0.3</td>\n",
       "      <td>0.79</td>\n",
       "      <td>Graduate</td>\n",
       "      <td>Portugal</td>\n",
       "      <td>85.185539</td>\n",
       "      <td>362200.0</td>\n",
       "    </tr>\n",
       "  </tbody>\n",
       "</table>\n",
       "<p>5 rows × 41 columns</p>\n",
       "</div>"
      ],
      "text/plain": [
       "   Unnamed: 0  Marital status  Application mode  Application order  Course  \\\n",
       "0           0               1                17                  5     171   \n",
       "1           1               1                15                  1    9254   \n",
       "2           2               1                 1                  5    9070   \n",
       "3           3               1                17                  2    9773   \n",
       "4           4               2                39                  1    8014   \n",
       "\n",
       "   Daytime/evening attendance\\t  Previous qualification  \\\n",
       "0                             1                       1   \n",
       "1                             1                       1   \n",
       "2                             1                       1   \n",
       "3                             1                       1   \n",
       "4                             0                       1   \n",
       "\n",
       "   Previous qualification (grade)  Nacionality  Mother's qualification  ...  \\\n",
       "0                           122.0            1                      19  ...   \n",
       "1                           160.0            1                       1  ...   \n",
       "2                           122.0            1                      37  ...   \n",
       "3                           122.0            1                      38  ...   \n",
       "4                           100.0            1                      37  ...   \n",
       "\n",
       "   Curricular units 2nd sem (approved)  Curricular units 2nd sem (grade)  \\\n",
       "0                                    0                          0.000000   \n",
       "1                                    6                         13.666667   \n",
       "2                                    0                          0.000000   \n",
       "3                                    5                         12.400000   \n",
       "4                                    6                         13.000000   \n",
       "\n",
       "   Curricular units 2nd sem (without evaluations)  Unemployment rate  \\\n",
       "0                                               0               10.8   \n",
       "1                                               0               13.9   \n",
       "2                                               0               10.8   \n",
       "3                                               0                9.4   \n",
       "4                                               0               13.9   \n",
       "\n",
       "   Inflation rate   GDP    Target  Country Name  \\\n",
       "0             1.4  1.74   Dropout      Portugal   \n",
       "1            -0.3  0.79  Graduate      Portugal   \n",
       "2             1.4  1.74   Dropout      Portugal   \n",
       "3            -0.8 -3.12  Graduate      Portugal   \n",
       "4            -0.3  0.79  Graduate      Portugal   \n",
       "\n",
       "   Adj net enrollment of lower secondary  \\\n",
       "0                              85.185539   \n",
       "1                              85.185539   \n",
       "2                              85.185539   \n",
       "3                              85.185539   \n",
       "4                              85.185539   \n",
       "\n",
       "   Tertiary educ enrollment(all programs)  \n",
       "0                                362200.0  \n",
       "1                                362200.0  \n",
       "2                                362200.0  \n",
       "3                                362200.0  \n",
       "4                                362200.0  \n",
       "\n",
       "[5 rows x 41 columns]"
      ]
     },
     "execution_count": 4,
     "metadata": {},
     "output_type": "execute_result"
    }
   ],
   "source": [
    "student_data.head()"
   ]
  },
  {
   "cell_type": "markdown",
   "id": "8b0dfe60",
   "metadata": {},
   "source": [
    "## Exploring the Data "
   ]
  },
  {
   "cell_type": "markdown",
   "id": "f2105727",
   "metadata": {},
   "source": [
    "#### Summary Stats "
   ]
  },
  {
   "cell_type": "code",
   "execution_count": 5,
   "id": "709956c7",
   "metadata": {},
   "outputs": [
    {
     "data": {
      "text/html": [
       "<div>\n",
       "<style scoped>\n",
       "    .dataframe tbody tr th:only-of-type {\n",
       "        vertical-align: middle;\n",
       "    }\n",
       "\n",
       "    .dataframe tbody tr th {\n",
       "        vertical-align: top;\n",
       "    }\n",
       "\n",
       "    .dataframe thead th {\n",
       "        text-align: right;\n",
       "    }\n",
       "</style>\n",
       "<table border=\"1\" class=\"dataframe\">\n",
       "  <thead>\n",
       "    <tr style=\"text-align: right;\">\n",
       "      <th></th>\n",
       "      <th>Unnamed: 0</th>\n",
       "      <th>Marital status</th>\n",
       "      <th>Application mode</th>\n",
       "      <th>Application order</th>\n",
       "      <th>Course</th>\n",
       "      <th>Daytime/evening attendance\\t</th>\n",
       "      <th>Previous qualification</th>\n",
       "      <th>Previous qualification (grade)</th>\n",
       "      <th>Nacionality</th>\n",
       "      <th>Mother's qualification</th>\n",
       "      <th>...</th>\n",
       "      <th>Curricular units 2nd sem (enrolled)</th>\n",
       "      <th>Curricular units 2nd sem (evaluations)</th>\n",
       "      <th>Curricular units 2nd sem (approved)</th>\n",
       "      <th>Curricular units 2nd sem (grade)</th>\n",
       "      <th>Curricular units 2nd sem (without evaluations)</th>\n",
       "      <th>Unemployment rate</th>\n",
       "      <th>Inflation rate</th>\n",
       "      <th>GDP</th>\n",
       "      <th>Adj net enrollment of lower secondary</th>\n",
       "      <th>Tertiary educ enrollment(all programs)</th>\n",
       "    </tr>\n",
       "  </thead>\n",
       "  <tbody>\n",
       "    <tr>\n",
       "      <th>count</th>\n",
       "      <td>4424.000000</td>\n",
       "      <td>4424.000000</td>\n",
       "      <td>4424.000000</td>\n",
       "      <td>4424.000000</td>\n",
       "      <td>4424.000000</td>\n",
       "      <td>4424.000000</td>\n",
       "      <td>4424.000000</td>\n",
       "      <td>4424.000000</td>\n",
       "      <td>4424.000000</td>\n",
       "      <td>4424.000000</td>\n",
       "      <td>...</td>\n",
       "      <td>4424.000000</td>\n",
       "      <td>4424.000000</td>\n",
       "      <td>4424.000000</td>\n",
       "      <td>4424.000000</td>\n",
       "      <td>4424.000000</td>\n",
       "      <td>4424.000000</td>\n",
       "      <td>4424.000000</td>\n",
       "      <td>4424.000000</td>\n",
       "      <td>4424.000000</td>\n",
       "      <td>4.424000e+03</td>\n",
       "    </tr>\n",
       "    <tr>\n",
       "      <th>mean</th>\n",
       "      <td>2211.500000</td>\n",
       "      <td>1.178571</td>\n",
       "      <td>18.669078</td>\n",
       "      <td>1.727848</td>\n",
       "      <td>8856.642631</td>\n",
       "      <td>0.890823</td>\n",
       "      <td>4.577758</td>\n",
       "      <td>132.613314</td>\n",
       "      <td>1.873192</td>\n",
       "      <td>19.561935</td>\n",
       "      <td>...</td>\n",
       "      <td>6.232143</td>\n",
       "      <td>8.063291</td>\n",
       "      <td>4.435805</td>\n",
       "      <td>10.230206</td>\n",
       "      <td>0.150316</td>\n",
       "      <td>11.566139</td>\n",
       "      <td>1.228029</td>\n",
       "      <td>0.001969</td>\n",
       "      <td>85.080939</td>\n",
       "      <td>4.387710e+05</td>\n",
       "    </tr>\n",
       "    <tr>\n",
       "      <th>std</th>\n",
       "      <td>1277.243125</td>\n",
       "      <td>0.605747</td>\n",
       "      <td>17.484682</td>\n",
       "      <td>1.313793</td>\n",
       "      <td>2063.566416</td>\n",
       "      <td>0.311897</td>\n",
       "      <td>10.216592</td>\n",
       "      <td>13.188332</td>\n",
       "      <td>6.914514</td>\n",
       "      <td>15.603186</td>\n",
       "      <td>...</td>\n",
       "      <td>2.195951</td>\n",
       "      <td>3.947951</td>\n",
       "      <td>3.014764</td>\n",
       "      <td>5.210808</td>\n",
       "      <td>0.753774</td>\n",
       "      <td>2.663850</td>\n",
       "      <td>1.382711</td>\n",
       "      <td>2.269935</td>\n",
       "      <td>2.541158</td>\n",
       "      <td>7.290486e+05</td>\n",
       "    </tr>\n",
       "    <tr>\n",
       "      <th>min</th>\n",
       "      <td>0.000000</td>\n",
       "      <td>1.000000</td>\n",
       "      <td>1.000000</td>\n",
       "      <td>0.000000</td>\n",
       "      <td>33.000000</td>\n",
       "      <td>0.000000</td>\n",
       "      <td>1.000000</td>\n",
       "      <td>95.000000</td>\n",
       "      <td>1.000000</td>\n",
       "      <td>1.000000</td>\n",
       "      <td>...</td>\n",
       "      <td>0.000000</td>\n",
       "      <td>0.000000</td>\n",
       "      <td>0.000000</td>\n",
       "      <td>0.000000</td>\n",
       "      <td>0.000000</td>\n",
       "      <td>7.600000</td>\n",
       "      <td>-0.800000</td>\n",
       "      <td>-4.060000</td>\n",
       "      <td>16.120781</td>\n",
       "      <td>1.339700e+04</td>\n",
       "    </tr>\n",
       "    <tr>\n",
       "      <th>25%</th>\n",
       "      <td>1105.750000</td>\n",
       "      <td>1.000000</td>\n",
       "      <td>1.000000</td>\n",
       "      <td>1.000000</td>\n",
       "      <td>9085.000000</td>\n",
       "      <td>1.000000</td>\n",
       "      <td>1.000000</td>\n",
       "      <td>125.000000</td>\n",
       "      <td>1.000000</td>\n",
       "      <td>2.000000</td>\n",
       "      <td>...</td>\n",
       "      <td>5.000000</td>\n",
       "      <td>6.000000</td>\n",
       "      <td>2.000000</td>\n",
       "      <td>10.750000</td>\n",
       "      <td>0.000000</td>\n",
       "      <td>9.400000</td>\n",
       "      <td>0.300000</td>\n",
       "      <td>-1.700000</td>\n",
       "      <td>85.185539</td>\n",
       "      <td>3.622000e+05</td>\n",
       "    </tr>\n",
       "    <tr>\n",
       "      <th>50%</th>\n",
       "      <td>2211.500000</td>\n",
       "      <td>1.000000</td>\n",
       "      <td>17.000000</td>\n",
       "      <td>1.000000</td>\n",
       "      <td>9238.000000</td>\n",
       "      <td>1.000000</td>\n",
       "      <td>1.000000</td>\n",
       "      <td>133.100000</td>\n",
       "      <td>1.000000</td>\n",
       "      <td>19.000000</td>\n",
       "      <td>...</td>\n",
       "      <td>6.000000</td>\n",
       "      <td>8.000000</td>\n",
       "      <td>5.000000</td>\n",
       "      <td>12.200000</td>\n",
       "      <td>0.000000</td>\n",
       "      <td>11.100000</td>\n",
       "      <td>1.400000</td>\n",
       "      <td>0.320000</td>\n",
       "      <td>85.185539</td>\n",
       "      <td>3.622000e+05</td>\n",
       "    </tr>\n",
       "    <tr>\n",
       "      <th>75%</th>\n",
       "      <td>3317.250000</td>\n",
       "      <td>1.000000</td>\n",
       "      <td>39.000000</td>\n",
       "      <td>2.000000</td>\n",
       "      <td>9556.000000</td>\n",
       "      <td>1.000000</td>\n",
       "      <td>1.000000</td>\n",
       "      <td>140.000000</td>\n",
       "      <td>1.000000</td>\n",
       "      <td>37.000000</td>\n",
       "      <td>...</td>\n",
       "      <td>7.000000</td>\n",
       "      <td>10.000000</td>\n",
       "      <td>6.000000</td>\n",
       "      <td>13.333333</td>\n",
       "      <td>0.000000</td>\n",
       "      <td>13.900000</td>\n",
       "      <td>2.600000</td>\n",
       "      <td>1.790000</td>\n",
       "      <td>85.185539</td>\n",
       "      <td>3.622000e+05</td>\n",
       "    </tr>\n",
       "    <tr>\n",
       "      <th>max</th>\n",
       "      <td>4423.000000</td>\n",
       "      <td>6.000000</td>\n",
       "      <td>57.000000</td>\n",
       "      <td>9.000000</td>\n",
       "      <td>9991.000000</td>\n",
       "      <td>1.000000</td>\n",
       "      <td>43.000000</td>\n",
       "      <td>190.000000</td>\n",
       "      <td>109.000000</td>\n",
       "      <td>44.000000</td>\n",
       "      <td>...</td>\n",
       "      <td>23.000000</td>\n",
       "      <td>33.000000</td>\n",
       "      <td>20.000000</td>\n",
       "      <td>18.571429</td>\n",
       "      <td>12.000000</td>\n",
       "      <td>16.200000</td>\n",
       "      <td>3.700000</td>\n",
       "      <td>3.510000</td>\n",
       "      <td>99.405693</td>\n",
       "      <td>8.072146e+06</td>\n",
       "    </tr>\n",
       "  </tbody>\n",
       "</table>\n",
       "<p>8 rows × 39 columns</p>\n",
       "</div>"
      ],
      "text/plain": [
       "        Unnamed: 0  Marital status  Application mode  Application order  \\\n",
       "count  4424.000000     4424.000000       4424.000000        4424.000000   \n",
       "mean   2211.500000        1.178571         18.669078           1.727848   \n",
       "std    1277.243125        0.605747         17.484682           1.313793   \n",
       "min       0.000000        1.000000          1.000000           0.000000   \n",
       "25%    1105.750000        1.000000          1.000000           1.000000   \n",
       "50%    2211.500000        1.000000         17.000000           1.000000   \n",
       "75%    3317.250000        1.000000         39.000000           2.000000   \n",
       "max    4423.000000        6.000000         57.000000           9.000000   \n",
       "\n",
       "            Course  Daytime/evening attendance\\t  Previous qualification  \\\n",
       "count  4424.000000                   4424.000000             4424.000000   \n",
       "mean   8856.642631                      0.890823                4.577758   \n",
       "std    2063.566416                      0.311897               10.216592   \n",
       "min      33.000000                      0.000000                1.000000   \n",
       "25%    9085.000000                      1.000000                1.000000   \n",
       "50%    9238.000000                      1.000000                1.000000   \n",
       "75%    9556.000000                      1.000000                1.000000   \n",
       "max    9991.000000                      1.000000               43.000000   \n",
       "\n",
       "       Previous qualification (grade)  Nacionality  Mother's qualification  \\\n",
       "count                     4424.000000  4424.000000             4424.000000   \n",
       "mean                       132.613314     1.873192               19.561935   \n",
       "std                         13.188332     6.914514               15.603186   \n",
       "min                         95.000000     1.000000                1.000000   \n",
       "25%                        125.000000     1.000000                2.000000   \n",
       "50%                        133.100000     1.000000               19.000000   \n",
       "75%                        140.000000     1.000000               37.000000   \n",
       "max                        190.000000   109.000000               44.000000   \n",
       "\n",
       "       ...  Curricular units 2nd sem (enrolled)  \\\n",
       "count  ...                          4424.000000   \n",
       "mean   ...                             6.232143   \n",
       "std    ...                             2.195951   \n",
       "min    ...                             0.000000   \n",
       "25%    ...                             5.000000   \n",
       "50%    ...                             6.000000   \n",
       "75%    ...                             7.000000   \n",
       "max    ...                            23.000000   \n",
       "\n",
       "       Curricular units 2nd sem (evaluations)  \\\n",
       "count                             4424.000000   \n",
       "mean                                 8.063291   \n",
       "std                                  3.947951   \n",
       "min                                  0.000000   \n",
       "25%                                  6.000000   \n",
       "50%                                  8.000000   \n",
       "75%                                 10.000000   \n",
       "max                                 33.000000   \n",
       "\n",
       "       Curricular units 2nd sem (approved)  Curricular units 2nd sem (grade)  \\\n",
       "count                          4424.000000                       4424.000000   \n",
       "mean                              4.435805                         10.230206   \n",
       "std                               3.014764                          5.210808   \n",
       "min                               0.000000                          0.000000   \n",
       "25%                               2.000000                         10.750000   \n",
       "50%                               5.000000                         12.200000   \n",
       "75%                               6.000000                         13.333333   \n",
       "max                              20.000000                         18.571429   \n",
       "\n",
       "       Curricular units 2nd sem (without evaluations)  Unemployment rate  \\\n",
       "count                                     4424.000000        4424.000000   \n",
       "mean                                         0.150316          11.566139   \n",
       "std                                          0.753774           2.663850   \n",
       "min                                          0.000000           7.600000   \n",
       "25%                                          0.000000           9.400000   \n",
       "50%                                          0.000000          11.100000   \n",
       "75%                                          0.000000          13.900000   \n",
       "max                                         12.000000          16.200000   \n",
       "\n",
       "       Inflation rate          GDP  Adj net enrollment of lower secondary  \\\n",
       "count     4424.000000  4424.000000                            4424.000000   \n",
       "mean         1.228029     0.001969                              85.080939   \n",
       "std          1.382711     2.269935                               2.541158   \n",
       "min         -0.800000    -4.060000                              16.120781   \n",
       "25%          0.300000    -1.700000                              85.185539   \n",
       "50%          1.400000     0.320000                              85.185539   \n",
       "75%          2.600000     1.790000                              85.185539   \n",
       "max          3.700000     3.510000                              99.405693   \n",
       "\n",
       "       Tertiary educ enrollment(all programs)  \n",
       "count                            4.424000e+03  \n",
       "mean                             4.387710e+05  \n",
       "std                              7.290486e+05  \n",
       "min                              1.339700e+04  \n",
       "25%                              3.622000e+05  \n",
       "50%                              3.622000e+05  \n",
       "75%                              3.622000e+05  \n",
       "max                              8.072146e+06  \n",
       "\n",
       "[8 rows x 39 columns]"
      ]
     },
     "execution_count": 5,
     "metadata": {},
     "output_type": "execute_result"
    }
   ],
   "source": [
    "student_data.describe()"
   ]
  },
  {
   "cell_type": "code",
   "execution_count": 6,
   "id": "7fec761a",
   "metadata": {},
   "outputs": [
    {
     "data": {
      "text/plain": [
       "Country Name\n",
       "Portugal          4314\n",
       "Brazil              38\n",
       "Soa Tome            14\n",
       "Cabo Verde          13\n",
       "Spain               13\n",
       "Guinea               5\n",
       "Moldova              3\n",
       "Ukraine              3\n",
       "Italy                3\n",
       "Russia               2\n",
       "Romania              2\n",
       "Anogola              2\n",
       "Mozambique           2\n",
       "Mexico               2\n",
       "Germany              2\n",
       "Netherlands          1\n",
       "Lithuania            1\n",
       "Cuba                 1\n",
       "Turkey               1\n",
       "Colombia             1\n",
       "United Kingdom       1\n",
       "dtype: int64"
      ]
     },
     "execution_count": 6,
     "metadata": {},
     "output_type": "execute_result"
    }
   ],
   "source": [
    "# Count of participants per country \n",
    "student_data.value_counts('Country Name')"
   ]
  },
  {
   "cell_type": "code",
   "execution_count": 7,
   "id": "5ba64809",
   "metadata": {},
   "outputs": [
    {
     "data": {
      "text/plain": [
       "4424"
      ]
     },
     "execution_count": 7,
     "metadata": {},
     "output_type": "execute_result"
    }
   ],
   "source": [
    "total_students = student_data.value_counts('Country Name').sum()\n",
    "total_students"
   ]
  },
  {
   "cell_type": "code",
   "execution_count": 8,
   "id": "0953ae27",
   "metadata": {},
   "outputs": [
    {
     "name": "stdout",
     "output_type": "stream",
     "text": [
      "                Country Name\n",
      "Portugal            0.975136\n",
      "Brazil              0.008590\n",
      "Soa Tome            0.003165\n",
      "Cabo Verde          0.002939\n",
      "Spain               0.002939\n",
      "Guinea              0.001130\n",
      "Moldova             0.000678\n",
      "Italy               0.000678\n",
      "Ukraine             0.000678\n",
      "Anogola             0.000452\n",
      "Mexico              0.000452\n",
      "Romania             0.000452\n",
      "Mozambique          0.000452\n",
      "Germany             0.000452\n",
      "Russia              0.000452\n",
      "Turkey              0.000226\n",
      "Netherlands         0.000226\n",
      "Colombia            0.000226\n",
      "Cuba                0.000226\n",
      "United Kingdom      0.000226\n",
      "Lithuania           0.000226\n"
     ]
    }
   ],
   "source": [
    "participants = pd.DataFrame(student_data['Country Name'].value_counts(normalize=True))\n",
    "print(participants)"
   ]
  },
  {
   "cell_type": "code",
   "execution_count": 9,
   "id": "3406c81b",
   "metadata": {},
   "outputs": [],
   "source": [
    "# Reset index by nationality('Counrty Name') \n",
    "student_success = student_data.set_index('Country Name')"
   ]
  },
  {
   "cell_type": "code",
   "execution_count": 10,
   "id": "fc393f8f",
   "metadata": {},
   "outputs": [
    {
     "data": {
      "text/html": [
       "<div>\n",
       "<style scoped>\n",
       "    .dataframe tbody tr th:only-of-type {\n",
       "        vertical-align: middle;\n",
       "    }\n",
       "\n",
       "    .dataframe tbody tr th {\n",
       "        vertical-align: top;\n",
       "    }\n",
       "\n",
       "    .dataframe thead th {\n",
       "        text-align: right;\n",
       "    }\n",
       "</style>\n",
       "<table border=\"1\" class=\"dataframe\">\n",
       "  <thead>\n",
       "    <tr style=\"text-align: right;\">\n",
       "      <th></th>\n",
       "      <th>Unnamed: 0</th>\n",
       "      <th>Marital status</th>\n",
       "      <th>Application mode</th>\n",
       "      <th>Application order</th>\n",
       "      <th>Course</th>\n",
       "      <th>Daytime/evening attendance\\t</th>\n",
       "      <th>Previous qualification</th>\n",
       "      <th>Previous qualification (grade)</th>\n",
       "      <th>Nacionality</th>\n",
       "      <th>Mother's qualification</th>\n",
       "      <th>...</th>\n",
       "      <th>Curricular units 2nd sem (evaluations)</th>\n",
       "      <th>Curricular units 2nd sem (approved)</th>\n",
       "      <th>Curricular units 2nd sem (grade)</th>\n",
       "      <th>Curricular units 2nd sem (without evaluations)</th>\n",
       "      <th>Unemployment rate</th>\n",
       "      <th>Inflation rate</th>\n",
       "      <th>GDP</th>\n",
       "      <th>Target</th>\n",
       "      <th>Adj net enrollment of lower secondary</th>\n",
       "      <th>Tertiary educ enrollment(all programs)</th>\n",
       "    </tr>\n",
       "    <tr>\n",
       "      <th>Country Name</th>\n",
       "      <th></th>\n",
       "      <th></th>\n",
       "      <th></th>\n",
       "      <th></th>\n",
       "      <th></th>\n",
       "      <th></th>\n",
       "      <th></th>\n",
       "      <th></th>\n",
       "      <th></th>\n",
       "      <th></th>\n",
       "      <th></th>\n",
       "      <th></th>\n",
       "      <th></th>\n",
       "      <th></th>\n",
       "      <th></th>\n",
       "      <th></th>\n",
       "      <th></th>\n",
       "      <th></th>\n",
       "      <th></th>\n",
       "      <th></th>\n",
       "      <th></th>\n",
       "    </tr>\n",
       "  </thead>\n",
       "  <tbody>\n",
       "    <tr>\n",
       "      <th>Portugal</th>\n",
       "      <td>0</td>\n",
       "      <td>1</td>\n",
       "      <td>17</td>\n",
       "      <td>5</td>\n",
       "      <td>171</td>\n",
       "      <td>1</td>\n",
       "      <td>1</td>\n",
       "      <td>122.0</td>\n",
       "      <td>1</td>\n",
       "      <td>19</td>\n",
       "      <td>...</td>\n",
       "      <td>0</td>\n",
       "      <td>0</td>\n",
       "      <td>0.000000</td>\n",
       "      <td>0</td>\n",
       "      <td>10.8</td>\n",
       "      <td>1.4</td>\n",
       "      <td>1.74</td>\n",
       "      <td>Dropout</td>\n",
       "      <td>85.185539</td>\n",
       "      <td>362200.0</td>\n",
       "    </tr>\n",
       "    <tr>\n",
       "      <th>Portugal</th>\n",
       "      <td>1</td>\n",
       "      <td>1</td>\n",
       "      <td>15</td>\n",
       "      <td>1</td>\n",
       "      <td>9254</td>\n",
       "      <td>1</td>\n",
       "      <td>1</td>\n",
       "      <td>160.0</td>\n",
       "      <td>1</td>\n",
       "      <td>1</td>\n",
       "      <td>...</td>\n",
       "      <td>6</td>\n",
       "      <td>6</td>\n",
       "      <td>13.666667</td>\n",
       "      <td>0</td>\n",
       "      <td>13.9</td>\n",
       "      <td>-0.3</td>\n",
       "      <td>0.79</td>\n",
       "      <td>Graduate</td>\n",
       "      <td>85.185539</td>\n",
       "      <td>362200.0</td>\n",
       "    </tr>\n",
       "    <tr>\n",
       "      <th>Portugal</th>\n",
       "      <td>2</td>\n",
       "      <td>1</td>\n",
       "      <td>1</td>\n",
       "      <td>5</td>\n",
       "      <td>9070</td>\n",
       "      <td>1</td>\n",
       "      <td>1</td>\n",
       "      <td>122.0</td>\n",
       "      <td>1</td>\n",
       "      <td>37</td>\n",
       "      <td>...</td>\n",
       "      <td>0</td>\n",
       "      <td>0</td>\n",
       "      <td>0.000000</td>\n",
       "      <td>0</td>\n",
       "      <td>10.8</td>\n",
       "      <td>1.4</td>\n",
       "      <td>1.74</td>\n",
       "      <td>Dropout</td>\n",
       "      <td>85.185539</td>\n",
       "      <td>362200.0</td>\n",
       "    </tr>\n",
       "    <tr>\n",
       "      <th>Portugal</th>\n",
       "      <td>3</td>\n",
       "      <td>1</td>\n",
       "      <td>17</td>\n",
       "      <td>2</td>\n",
       "      <td>9773</td>\n",
       "      <td>1</td>\n",
       "      <td>1</td>\n",
       "      <td>122.0</td>\n",
       "      <td>1</td>\n",
       "      <td>38</td>\n",
       "      <td>...</td>\n",
       "      <td>10</td>\n",
       "      <td>5</td>\n",
       "      <td>12.400000</td>\n",
       "      <td>0</td>\n",
       "      <td>9.4</td>\n",
       "      <td>-0.8</td>\n",
       "      <td>-3.12</td>\n",
       "      <td>Graduate</td>\n",
       "      <td>85.185539</td>\n",
       "      <td>362200.0</td>\n",
       "    </tr>\n",
       "    <tr>\n",
       "      <th>Portugal</th>\n",
       "      <td>4</td>\n",
       "      <td>2</td>\n",
       "      <td>39</td>\n",
       "      <td>1</td>\n",
       "      <td>8014</td>\n",
       "      <td>0</td>\n",
       "      <td>1</td>\n",
       "      <td>100.0</td>\n",
       "      <td>1</td>\n",
       "      <td>37</td>\n",
       "      <td>...</td>\n",
       "      <td>6</td>\n",
       "      <td>6</td>\n",
       "      <td>13.000000</td>\n",
       "      <td>0</td>\n",
       "      <td>13.9</td>\n",
       "      <td>-0.3</td>\n",
       "      <td>0.79</td>\n",
       "      <td>Graduate</td>\n",
       "      <td>85.185539</td>\n",
       "      <td>362200.0</td>\n",
       "    </tr>\n",
       "  </tbody>\n",
       "</table>\n",
       "<p>5 rows × 40 columns</p>\n",
       "</div>"
      ],
      "text/plain": [
       "              Unnamed: 0  Marital status  Application mode  Application order  \\\n",
       "Country Name                                                                    \n",
       "Portugal               0               1                17                  5   \n",
       "Portugal               1               1                15                  1   \n",
       "Portugal               2               1                 1                  5   \n",
       "Portugal               3               1                17                  2   \n",
       "Portugal               4               2                39                  1   \n",
       "\n",
       "              Course  Daytime/evening attendance\\t  Previous qualification  \\\n",
       "Country Name                                                                 \n",
       "Portugal         171                             1                       1   \n",
       "Portugal        9254                             1                       1   \n",
       "Portugal        9070                             1                       1   \n",
       "Portugal        9773                             1                       1   \n",
       "Portugal        8014                             0                       1   \n",
       "\n",
       "              Previous qualification (grade)  Nacionality  \\\n",
       "Country Name                                                \n",
       "Portugal                               122.0            1   \n",
       "Portugal                               160.0            1   \n",
       "Portugal                               122.0            1   \n",
       "Portugal                               122.0            1   \n",
       "Portugal                               100.0            1   \n",
       "\n",
       "              Mother's qualification  ...  \\\n",
       "Country Name                          ...   \n",
       "Portugal                          19  ...   \n",
       "Portugal                           1  ...   \n",
       "Portugal                          37  ...   \n",
       "Portugal                          38  ...   \n",
       "Portugal                          37  ...   \n",
       "\n",
       "              Curricular units 2nd sem (evaluations)  \\\n",
       "Country Name                                           \n",
       "Portugal                                           0   \n",
       "Portugal                                           6   \n",
       "Portugal                                           0   \n",
       "Portugal                                          10   \n",
       "Portugal                                           6   \n",
       "\n",
       "              Curricular units 2nd sem (approved)  \\\n",
       "Country Name                                        \n",
       "Portugal                                        0   \n",
       "Portugal                                        6   \n",
       "Portugal                                        0   \n",
       "Portugal                                        5   \n",
       "Portugal                                        6   \n",
       "\n",
       "              Curricular units 2nd sem (grade)  \\\n",
       "Country Name                                     \n",
       "Portugal                              0.000000   \n",
       "Portugal                             13.666667   \n",
       "Portugal                              0.000000   \n",
       "Portugal                             12.400000   \n",
       "Portugal                             13.000000   \n",
       "\n",
       "              Curricular units 2nd sem (without evaluations)  \\\n",
       "Country Name                                                   \n",
       "Portugal                                                   0   \n",
       "Portugal                                                   0   \n",
       "Portugal                                                   0   \n",
       "Portugal                                                   0   \n",
       "Portugal                                                   0   \n",
       "\n",
       "              Unemployment rate  Inflation rate   GDP    Target  \\\n",
       "Country Name                                                      \n",
       "Portugal                   10.8             1.4  1.74   Dropout   \n",
       "Portugal                   13.9            -0.3  0.79  Graduate   \n",
       "Portugal                   10.8             1.4  1.74   Dropout   \n",
       "Portugal                    9.4            -0.8 -3.12  Graduate   \n",
       "Portugal                   13.9            -0.3  0.79  Graduate   \n",
       "\n",
       "              Adj net enrollment of lower secondary  \\\n",
       "Country Name                                          \n",
       "Portugal                                  85.185539   \n",
       "Portugal                                  85.185539   \n",
       "Portugal                                  85.185539   \n",
       "Portugal                                  85.185539   \n",
       "Portugal                                  85.185539   \n",
       "\n",
       "              Tertiary educ enrollment(all programs)  \n",
       "Country Name                                          \n",
       "Portugal                                    362200.0  \n",
       "Portugal                                    362200.0  \n",
       "Portugal                                    362200.0  \n",
       "Portugal                                    362200.0  \n",
       "Portugal                                    362200.0  \n",
       "\n",
       "[5 rows x 40 columns]"
      ]
     },
     "execution_count": 10,
     "metadata": {},
     "output_type": "execute_result"
    }
   ],
   "source": [
    "student_success.head()"
   ]
  },
  {
   "cell_type": "code",
   "execution_count": 11,
   "id": "c971f8c2",
   "metadata": {},
   "outputs": [],
   "source": [
    "# Renaming column : 'Unnamed: 0' to 'Student ID'\n",
    "student_success.rename(columns = {'Unnamed: 0':'Student ID'}, inplace = True)"
   ]
  },
  {
   "cell_type": "code",
   "execution_count": 12,
   "id": "1cfd4119",
   "metadata": {},
   "outputs": [
    {
     "data": {
      "text/html": [
       "<div>\n",
       "<style scoped>\n",
       "    .dataframe tbody tr th:only-of-type {\n",
       "        vertical-align: middle;\n",
       "    }\n",
       "\n",
       "    .dataframe tbody tr th {\n",
       "        vertical-align: top;\n",
       "    }\n",
       "\n",
       "    .dataframe thead th {\n",
       "        text-align: right;\n",
       "    }\n",
       "</style>\n",
       "<table border=\"1\" class=\"dataframe\">\n",
       "  <thead>\n",
       "    <tr style=\"text-align: right;\">\n",
       "      <th></th>\n",
       "      <th>Student ID</th>\n",
       "      <th>Marital status</th>\n",
       "      <th>Application mode</th>\n",
       "      <th>Application order</th>\n",
       "      <th>Course</th>\n",
       "      <th>Daytime/evening attendance\\t</th>\n",
       "      <th>Previous qualification</th>\n",
       "      <th>Previous qualification (grade)</th>\n",
       "      <th>Nacionality</th>\n",
       "      <th>Mother's qualification</th>\n",
       "      <th>...</th>\n",
       "      <th>Curricular units 2nd sem (evaluations)</th>\n",
       "      <th>Curricular units 2nd sem (approved)</th>\n",
       "      <th>Curricular units 2nd sem (grade)</th>\n",
       "      <th>Curricular units 2nd sem (without evaluations)</th>\n",
       "      <th>Unemployment rate</th>\n",
       "      <th>Inflation rate</th>\n",
       "      <th>GDP</th>\n",
       "      <th>Target</th>\n",
       "      <th>Adj net enrollment of lower secondary</th>\n",
       "      <th>Tertiary educ enrollment(all programs)</th>\n",
       "    </tr>\n",
       "    <tr>\n",
       "      <th>Country Name</th>\n",
       "      <th></th>\n",
       "      <th></th>\n",
       "      <th></th>\n",
       "      <th></th>\n",
       "      <th></th>\n",
       "      <th></th>\n",
       "      <th></th>\n",
       "      <th></th>\n",
       "      <th></th>\n",
       "      <th></th>\n",
       "      <th></th>\n",
       "      <th></th>\n",
       "      <th></th>\n",
       "      <th></th>\n",
       "      <th></th>\n",
       "      <th></th>\n",
       "      <th></th>\n",
       "      <th></th>\n",
       "      <th></th>\n",
       "      <th></th>\n",
       "      <th></th>\n",
       "    </tr>\n",
       "  </thead>\n",
       "  <tbody>\n",
       "    <tr>\n",
       "      <th>Portugal</th>\n",
       "      <td>0</td>\n",
       "      <td>1</td>\n",
       "      <td>17</td>\n",
       "      <td>5</td>\n",
       "      <td>171</td>\n",
       "      <td>1</td>\n",
       "      <td>1</td>\n",
       "      <td>122.0</td>\n",
       "      <td>1</td>\n",
       "      <td>19</td>\n",
       "      <td>...</td>\n",
       "      <td>0</td>\n",
       "      <td>0</td>\n",
       "      <td>0.000000</td>\n",
       "      <td>0</td>\n",
       "      <td>10.8</td>\n",
       "      <td>1.4</td>\n",
       "      <td>1.74</td>\n",
       "      <td>Dropout</td>\n",
       "      <td>85.185539</td>\n",
       "      <td>362200.0</td>\n",
       "    </tr>\n",
       "    <tr>\n",
       "      <th>Portugal</th>\n",
       "      <td>1</td>\n",
       "      <td>1</td>\n",
       "      <td>15</td>\n",
       "      <td>1</td>\n",
       "      <td>9254</td>\n",
       "      <td>1</td>\n",
       "      <td>1</td>\n",
       "      <td>160.0</td>\n",
       "      <td>1</td>\n",
       "      <td>1</td>\n",
       "      <td>...</td>\n",
       "      <td>6</td>\n",
       "      <td>6</td>\n",
       "      <td>13.666667</td>\n",
       "      <td>0</td>\n",
       "      <td>13.9</td>\n",
       "      <td>-0.3</td>\n",
       "      <td>0.79</td>\n",
       "      <td>Graduate</td>\n",
       "      <td>85.185539</td>\n",
       "      <td>362200.0</td>\n",
       "    </tr>\n",
       "    <tr>\n",
       "      <th>Portugal</th>\n",
       "      <td>2</td>\n",
       "      <td>1</td>\n",
       "      <td>1</td>\n",
       "      <td>5</td>\n",
       "      <td>9070</td>\n",
       "      <td>1</td>\n",
       "      <td>1</td>\n",
       "      <td>122.0</td>\n",
       "      <td>1</td>\n",
       "      <td>37</td>\n",
       "      <td>...</td>\n",
       "      <td>0</td>\n",
       "      <td>0</td>\n",
       "      <td>0.000000</td>\n",
       "      <td>0</td>\n",
       "      <td>10.8</td>\n",
       "      <td>1.4</td>\n",
       "      <td>1.74</td>\n",
       "      <td>Dropout</td>\n",
       "      <td>85.185539</td>\n",
       "      <td>362200.0</td>\n",
       "    </tr>\n",
       "    <tr>\n",
       "      <th>Portugal</th>\n",
       "      <td>3</td>\n",
       "      <td>1</td>\n",
       "      <td>17</td>\n",
       "      <td>2</td>\n",
       "      <td>9773</td>\n",
       "      <td>1</td>\n",
       "      <td>1</td>\n",
       "      <td>122.0</td>\n",
       "      <td>1</td>\n",
       "      <td>38</td>\n",
       "      <td>...</td>\n",
       "      <td>10</td>\n",
       "      <td>5</td>\n",
       "      <td>12.400000</td>\n",
       "      <td>0</td>\n",
       "      <td>9.4</td>\n",
       "      <td>-0.8</td>\n",
       "      <td>-3.12</td>\n",
       "      <td>Graduate</td>\n",
       "      <td>85.185539</td>\n",
       "      <td>362200.0</td>\n",
       "    </tr>\n",
       "    <tr>\n",
       "      <th>Portugal</th>\n",
       "      <td>4</td>\n",
       "      <td>2</td>\n",
       "      <td>39</td>\n",
       "      <td>1</td>\n",
       "      <td>8014</td>\n",
       "      <td>0</td>\n",
       "      <td>1</td>\n",
       "      <td>100.0</td>\n",
       "      <td>1</td>\n",
       "      <td>37</td>\n",
       "      <td>...</td>\n",
       "      <td>6</td>\n",
       "      <td>6</td>\n",
       "      <td>13.000000</td>\n",
       "      <td>0</td>\n",
       "      <td>13.9</td>\n",
       "      <td>-0.3</td>\n",
       "      <td>0.79</td>\n",
       "      <td>Graduate</td>\n",
       "      <td>85.185539</td>\n",
       "      <td>362200.0</td>\n",
       "    </tr>\n",
       "  </tbody>\n",
       "</table>\n",
       "<p>5 rows × 40 columns</p>\n",
       "</div>"
      ],
      "text/plain": [
       "              Student ID  Marital status  Application mode  Application order  \\\n",
       "Country Name                                                                    \n",
       "Portugal               0               1                17                  5   \n",
       "Portugal               1               1                15                  1   \n",
       "Portugal               2               1                 1                  5   \n",
       "Portugal               3               1                17                  2   \n",
       "Portugal               4               2                39                  1   \n",
       "\n",
       "              Course  Daytime/evening attendance\\t  Previous qualification  \\\n",
       "Country Name                                                                 \n",
       "Portugal         171                             1                       1   \n",
       "Portugal        9254                             1                       1   \n",
       "Portugal        9070                             1                       1   \n",
       "Portugal        9773                             1                       1   \n",
       "Portugal        8014                             0                       1   \n",
       "\n",
       "              Previous qualification (grade)  Nacionality  \\\n",
       "Country Name                                                \n",
       "Portugal                               122.0            1   \n",
       "Portugal                               160.0            1   \n",
       "Portugal                               122.0            1   \n",
       "Portugal                               122.0            1   \n",
       "Portugal                               100.0            1   \n",
       "\n",
       "              Mother's qualification  ...  \\\n",
       "Country Name                          ...   \n",
       "Portugal                          19  ...   \n",
       "Portugal                           1  ...   \n",
       "Portugal                          37  ...   \n",
       "Portugal                          38  ...   \n",
       "Portugal                          37  ...   \n",
       "\n",
       "              Curricular units 2nd sem (evaluations)  \\\n",
       "Country Name                                           \n",
       "Portugal                                           0   \n",
       "Portugal                                           6   \n",
       "Portugal                                           0   \n",
       "Portugal                                          10   \n",
       "Portugal                                           6   \n",
       "\n",
       "              Curricular units 2nd sem (approved)  \\\n",
       "Country Name                                        \n",
       "Portugal                                        0   \n",
       "Portugal                                        6   \n",
       "Portugal                                        0   \n",
       "Portugal                                        5   \n",
       "Portugal                                        6   \n",
       "\n",
       "              Curricular units 2nd sem (grade)  \\\n",
       "Country Name                                     \n",
       "Portugal                              0.000000   \n",
       "Portugal                             13.666667   \n",
       "Portugal                              0.000000   \n",
       "Portugal                             12.400000   \n",
       "Portugal                             13.000000   \n",
       "\n",
       "              Curricular units 2nd sem (without evaluations)  \\\n",
       "Country Name                                                   \n",
       "Portugal                                                   0   \n",
       "Portugal                                                   0   \n",
       "Portugal                                                   0   \n",
       "Portugal                                                   0   \n",
       "Portugal                                                   0   \n",
       "\n",
       "              Unemployment rate  Inflation rate   GDP    Target  \\\n",
       "Country Name                                                      \n",
       "Portugal                   10.8             1.4  1.74   Dropout   \n",
       "Portugal                   13.9            -0.3  0.79  Graduate   \n",
       "Portugal                   10.8             1.4  1.74   Dropout   \n",
       "Portugal                    9.4            -0.8 -3.12  Graduate   \n",
       "Portugal                   13.9            -0.3  0.79  Graduate   \n",
       "\n",
       "              Adj net enrollment of lower secondary  \\\n",
       "Country Name                                          \n",
       "Portugal                                  85.185539   \n",
       "Portugal                                  85.185539   \n",
       "Portugal                                  85.185539   \n",
       "Portugal                                  85.185539   \n",
       "Portugal                                  85.185539   \n",
       "\n",
       "              Tertiary educ enrollment(all programs)  \n",
       "Country Name                                          \n",
       "Portugal                                    362200.0  \n",
       "Portugal                                    362200.0  \n",
       "Portugal                                    362200.0  \n",
       "Portugal                                    362200.0  \n",
       "Portugal                                    362200.0  \n",
       "\n",
       "[5 rows x 40 columns]"
      ]
     },
     "execution_count": 12,
     "metadata": {},
     "output_type": "execute_result"
    }
   ],
   "source": [
    "student_success.head()"
   ]
  },
  {
   "cell_type": "markdown",
   "id": "422abc1f",
   "metadata": {},
   "source": [
    "### Education Stats per Country "
   ]
  },
  {
   "cell_type": "code",
   "execution_count": 13,
   "id": "80ec9a55",
   "metadata": {
    "scrolled": true
   },
   "outputs": [
    {
     "data": {
      "text/plain": [
       "Country Name\n",
       "Lithuania         99.405693\n",
       "United Kingdom    96.082527\n",
       "Spain             94.076622\n",
       "Ukraine           93.078461\n",
       "Romania           89.185013\n",
       "Name: Adj net enrollment of lower secondary, dtype: float64"
      ]
     },
     "execution_count": 13,
     "metadata": {},
     "output_type": "execute_result"
    }
   ],
   "source": [
    "# Secondary Education stats ( Top 5)\n",
    "secondary_educ = student_success['Adj net enrollment of lower secondary'].drop_duplicates()\n",
    "secondary_educ.sort_values(ascending=False).head()"
   ]
  },
  {
   "cell_type": "code",
   "execution_count": 14,
   "id": "f5770291",
   "metadata": {},
   "outputs": [
    {
     "data": {
      "image/png": "[encoded data removed]",
      "text/plain": [
       "<Figure size 640x480 with 1 Axes>"
      ]
     },
     "metadata": {},
     "output_type": "display_data"
    }
   ],
   "source": [
    "# Bar plot of secondary education \n",
    "ax = secondary_educ.plot.bar(x='Country', rot=75)\n",
    "ax.grid(axis='y')"
   ]
  },
  {
   "cell_type": "code",
   "execution_count": 15,
   "id": "7c6c26ec",
   "metadata": {},
   "outputs": [
    {
     "data": {
      "text/plain": [
       "Country Name\n",
       "Brazil            8072146.00\n",
       "Turkey            5472521.00\n",
       "Mexico            3419391.00\n",
       "Germany           2912203.50\n",
       "United Kingdom    2352932.75\n",
       "Name: Tertiary educ enrollment(all programs), dtype: float64"
      ]
     },
     "execution_count": 15,
     "metadata": {},
     "output_type": "execute_result"
    }
   ],
   "source": [
    "# Tertiary education Stats ( Top 5) \n",
    "tertiary_educ = student_success['Tertiary educ enrollment(all programs)'].drop_duplicates()\n",
    "tertiary_educ.sort_values(ascending=False).head()"
   ]
  },
  {
   "cell_type": "code",
   "execution_count": 16,
   "id": "e8c7bcb8",
   "metadata": {},
   "outputs": [
    {
     "data": {
      "image/png": "[encoded data removed]",
      "text/plain": [
       "<Figure size 1600x1000 with 1 Axes>"
      ]
     },
     "metadata": {},
     "output_type": "display_data"
    }
   ],
   "source": [
    "# Bar plot of Tertiary education \n",
    "ax = tertiary_educ.plot.bar(x='Country', rot=75, figsize=(16,10))\n",
    "ax.set_ylabel('Tertiary Education Enrollment(all programs)')\n",
    "ax.set_xlabel('Country')\n",
    "ax.grid(axis='y')"
   ]
  },
  {
   "cell_type": "markdown",
   "id": "bc93d23d",
   "metadata": {},
   "source": [
    "###### Admisson Grades per Country "
   ]
  },
  {
   "cell_type": "code",
   "execution_count": 17,
   "id": "72d01445",
   "metadata": {},
   "outputs": [
    {
     "data": {
      "text/plain": [
       "Country Name\n",
       "Portugal      127.3\n",
       "Portugal      142.5\n",
       "Portugal      124.8\n",
       "Portugal      119.6\n",
       "Portugal      141.5\n",
       "              ...  \n",
       "Portugal      122.2\n",
       "Russia        119.0\n",
       "Portugal      149.5\n",
       "Portugal      153.8\n",
       "Cabo Verde    152.0\n",
       "Name: Admission grade, Length: 4424, dtype: float64"
      ]
     },
     "execution_count": 17,
     "metadata": {},
     "output_type": "execute_result"
    }
   ],
   "source": [
    "# Enrollment grades per participants per counrty \n",
    "admis_grade = student_success[\"Admission grade\"]\n",
    "admis_grade"
   ]
  },
  {
   "cell_type": "code",
   "execution_count": 18,
   "id": "32a94c13",
   "metadata": {},
   "outputs": [
    {
     "data": {
      "text/plain": [
       "126.91968011126565"
      ]
     },
     "execution_count": 18,
     "metadata": {},
     "output_type": "execute_result"
    }
   ],
   "source": [
    "admis_grade['Portugal'].mean()"
   ]
  },
  {
   "cell_type": "code",
   "execution_count": 19,
   "id": "9e5bbe9e",
   "metadata": {},
   "outputs": [
    {
     "data": {
      "text/plain": [
       "121.17631578947368"
      ]
     },
     "execution_count": 19,
     "metadata": {},
     "output_type": "execute_result"
    }
   ],
   "source": [
    "admis_grade['Brazil'].mean()"
   ]
  },
  {
   "cell_type": "code",
   "execution_count": 20,
   "id": "575a9b91",
   "metadata": {},
   "outputs": [
    {
     "data": {
      "text/plain": [
       "132.80714285714285"
      ]
     },
     "execution_count": 20,
     "metadata": {},
     "output_type": "execute_result"
    }
   ],
   "source": [
    "admis_grade['Soa Tome'].mean()"
   ]
  },
  {
   "cell_type": "code",
   "execution_count": 21,
   "id": "d07fcd86",
   "metadata": {},
   "outputs": [
    {
     "data": {
      "text/plain": [
       "143.4923076923077"
      ]
     },
     "execution_count": 21,
     "metadata": {},
     "output_type": "execute_result"
    }
   ],
   "source": [
    "admis_grade['Cabo Verde'].mean()"
   ]
  },
  {
   "cell_type": "code",
   "execution_count": 22,
   "id": "e139ce51",
   "metadata": {},
   "outputs": [
    {
     "data": {
      "text/plain": [
       "128.55384615384617"
      ]
     },
     "execution_count": 22,
     "metadata": {},
     "output_type": "execute_result"
    }
   ],
   "source": [
    "admis_grade['Spain'].mean()"
   ]
  },
  {
   "cell_type": "code",
   "execution_count": 23,
   "id": "472919f1",
   "metadata": {},
   "outputs": [
    {
     "data": {
      "text/plain": [
       "124.38"
      ]
     },
     "execution_count": 23,
     "metadata": {},
     "output_type": "execute_result"
    }
   ],
   "source": [
    "admis_grade['Guinea'].mean()"
   ]
  },
  {
   "cell_type": "code",
   "execution_count": 24,
   "id": "48fb86c6",
   "metadata": {},
   "outputs": [],
   "source": [
    "admis_grade = pd.DataFrame(admis_grade)\n",
    "admis_grade.reset_index(inplace=True)"
   ]
  },
  {
   "cell_type": "code",
   "execution_count": 25,
   "id": "8eb15743",
   "metadata": {},
   "outputs": [
    {
     "name": "stdout",
     "output_type": "stream",
     "text": [
      "<class 'pandas.core.frame.DataFrame'>\n",
      "RangeIndex: 4424 entries, 0 to 4423\n",
      "Data columns (total 2 columns):\n",
      " #   Column           Non-Null Count  Dtype  \n",
      "---  ------           --------------  -----  \n",
      " 0   Country Name     4424 non-null   object \n",
      " 1   Admission grade  4424 non-null   float64\n",
      "dtypes: float64(1), object(1)\n",
      "memory usage: 69.2+ KB\n"
     ]
    }
   ],
   "source": [
    "admis_grade.info()"
   ]
  },
  {
   "cell_type": "code",
   "execution_count": 26,
   "id": "eb87b30d",
   "metadata": {},
   "outputs": [
    {
     "data": {
      "text/html": [
       "<div>\n",
       "<style scoped>\n",
       "    .dataframe tbody tr th:only-of-type {\n",
       "        vertical-align: middle;\n",
       "    }\n",
       "\n",
       "    .dataframe tbody tr th {\n",
       "        vertical-align: top;\n",
       "    }\n",
       "\n",
       "    .dataframe thead th {\n",
       "        text-align: right;\n",
       "    }\n",
       "</style>\n",
       "<table border=\"1\" class=\"dataframe\">\n",
       "  <thead>\n",
       "    <tr style=\"text-align: right;\">\n",
       "      <th></th>\n",
       "      <th>Country Name</th>\n",
       "      <th>Admission grade</th>\n",
       "    </tr>\n",
       "  </thead>\n",
       "  <tbody>\n",
       "    <tr>\n",
       "      <th>0</th>\n",
       "      <td>Portugal</td>\n",
       "      <td>127.3</td>\n",
       "    </tr>\n",
       "    <tr>\n",
       "      <th>1</th>\n",
       "      <td>Portugal</td>\n",
       "      <td>142.5</td>\n",
       "    </tr>\n",
       "    <tr>\n",
       "      <th>2</th>\n",
       "      <td>Portugal</td>\n",
       "      <td>124.8</td>\n",
       "    </tr>\n",
       "    <tr>\n",
       "      <th>3</th>\n",
       "      <td>Portugal</td>\n",
       "      <td>119.6</td>\n",
       "    </tr>\n",
       "    <tr>\n",
       "      <th>4</th>\n",
       "      <td>Portugal</td>\n",
       "      <td>141.5</td>\n",
       "    </tr>\n",
       "  </tbody>\n",
       "</table>\n",
       "</div>"
      ],
      "text/plain": [
       "  Country Name  Admission grade\n",
       "0     Portugal            127.3\n",
       "1     Portugal            142.5\n",
       "2     Portugal            124.8\n",
       "3     Portugal            119.6\n",
       "4     Portugal            141.5"
      ]
     },
     "execution_count": 26,
     "metadata": {},
     "output_type": "execute_result"
    }
   ],
   "source": [
    "admis_grade.head()"
   ]
  },
  {
   "cell_type": "code",
   "execution_count": 27,
   "id": "89a0a8a2",
   "metadata": {},
   "outputs": [
    {
     "data": {
      "text/plain": [
       "Text(0.5, 1.0, 'Admission Grades per Country')"
      ]
     },
     "execution_count": 27,
     "metadata": {},
     "output_type": "execute_result"
    },
    {
     "data": {
      "image/png": "[encoded data removed]",
      "text/plain": [
       "<Figure size 2000x1200 with 1 Axes>"
      ]
     },
     "metadata": {},
     "output_type": "display_data"
    }
   ],
   "source": [
    "# Scatterplot of admisssion grades per country \n",
    "ax1 = admis_grade.plot.scatter(x='Country Name',y='Admission grade', c='DarkBlue', figsize=(20,12), rot=75)\n",
    "plt.title('Admission Grades per Country', fontsize=20, weight='bold')"
   ]
  },
  {
   "cell_type": "markdown",
   "id": "3ed24398",
   "metadata": {},
   "source": [
    "### Graduate / Drop-Out Analysis "
   ]
  },
  {
   "cell_type": "code",
   "execution_count": 28,
   "id": "3b2fd3a4",
   "metadata": {},
   "outputs": [
    {
     "data": {
      "text/plain": [
       "Graduate    2209\n",
       "Dropout     1421\n",
       "Enrolled     794\n",
       "Name: Target, dtype: int64"
      ]
     },
     "execution_count": 28,
     "metadata": {},
     "output_type": "execute_result"
    }
   ],
   "source": [
    "# Student succes \n",
    "student_success['Target'].value_counts()"
   ]
  },
  {
   "cell_type": "code",
   "execution_count": 29,
   "id": "2d453df3",
   "metadata": {},
   "outputs": [],
   "source": [
    "grads = 2209"
   ]
  },
  {
   "cell_type": "code",
   "execution_count": 30,
   "id": "fd293be5",
   "metadata": {},
   "outputs": [],
   "source": [
    "dropouts = 1421"
   ]
  },
  {
   "cell_type": "code",
   "execution_count": 31,
   "id": "3963309f",
   "metadata": {},
   "outputs": [
    {
     "data": {
      "text/html": [
       "<div>\n",
       "<style scoped>\n",
       "    .dataframe tbody tr th:only-of-type {\n",
       "        vertical-align: middle;\n",
       "    }\n",
       "\n",
       "    .dataframe tbody tr th {\n",
       "        vertical-align: top;\n",
       "    }\n",
       "\n",
       "    .dataframe thead th {\n",
       "        text-align: right;\n",
       "    }\n",
       "</style>\n",
       "<table border=\"1\" class=\"dataframe\">\n",
       "  <thead>\n",
       "    <tr style=\"text-align: right;\">\n",
       "      <th></th>\n",
       "      <th>Country Name</th>\n",
       "      <th>Target</th>\n",
       "    </tr>\n",
       "  </thead>\n",
       "  <tbody>\n",
       "    <tr>\n",
       "      <th>0</th>\n",
       "      <td>Portugal</td>\n",
       "      <td>Dropout</td>\n",
       "    </tr>\n",
       "    <tr>\n",
       "      <th>1</th>\n",
       "      <td>Portugal</td>\n",
       "      <td>Graduate</td>\n",
       "    </tr>\n",
       "    <tr>\n",
       "      <th>2</th>\n",
       "      <td>Portugal</td>\n",
       "      <td>Dropout</td>\n",
       "    </tr>\n",
       "    <tr>\n",
       "      <th>3</th>\n",
       "      <td>Portugal</td>\n",
       "      <td>Graduate</td>\n",
       "    </tr>\n",
       "    <tr>\n",
       "      <th>4</th>\n",
       "      <td>Portugal</td>\n",
       "      <td>Graduate</td>\n",
       "    </tr>\n",
       "    <tr>\n",
       "      <th>...</th>\n",
       "      <td>...</td>\n",
       "      <td>...</td>\n",
       "    </tr>\n",
       "    <tr>\n",
       "      <th>4419</th>\n",
       "      <td>Portugal</td>\n",
       "      <td>Graduate</td>\n",
       "    </tr>\n",
       "    <tr>\n",
       "      <th>4420</th>\n",
       "      <td>Russia</td>\n",
       "      <td>Dropout</td>\n",
       "    </tr>\n",
       "    <tr>\n",
       "      <th>4421</th>\n",
       "      <td>Portugal</td>\n",
       "      <td>Dropout</td>\n",
       "    </tr>\n",
       "    <tr>\n",
       "      <th>4422</th>\n",
       "      <td>Portugal</td>\n",
       "      <td>Graduate</td>\n",
       "    </tr>\n",
       "    <tr>\n",
       "      <th>4423</th>\n",
       "      <td>Cabo Verde</td>\n",
       "      <td>Graduate</td>\n",
       "    </tr>\n",
       "  </tbody>\n",
       "</table>\n",
       "<p>4424 rows × 2 columns</p>\n",
       "</div>"
      ],
      "text/plain": [
       "     Country Name    Target\n",
       "0        Portugal   Dropout\n",
       "1        Portugal  Graduate\n",
       "2        Portugal   Dropout\n",
       "3        Portugal  Graduate\n",
       "4        Portugal  Graduate\n",
       "...           ...       ...\n",
       "4419     Portugal  Graduate\n",
       "4420       Russia   Dropout\n",
       "4421     Portugal   Dropout\n",
       "4422     Portugal  Graduate\n",
       "4423   Cabo Verde  Graduate\n",
       "\n",
       "[4424 rows x 2 columns]"
      ]
     },
     "execution_count": 31,
     "metadata": {},
     "output_type": "execute_result"
    }
   ],
   "source": [
    "# Student success per country \n",
    "grad_per_country = student_success['Target'].copy()\n",
    "grad_per_country= pd.DataFrame(grad_per_country)\n",
    "grad_per_country.reset_index(inplace=True)\n",
    "grad_per_country"
   ]
  },
  {
   "cell_type": "markdown",
   "id": "bac21a4c",
   "metadata": {},
   "source": [
    "###### Drop-Outs "
   ]
  },
  {
   "cell_type": "code",
   "execution_count": 32,
   "id": "ffc70c39",
   "metadata": {},
   "outputs": [
    {
     "name": "stdout",
     "output_type": "stream",
     "text": [
      "Country Name  Target \n",
      "Portugal      Dropout    1389\n",
      "Brazil        Dropout      14\n",
      "Cabo Verde    Dropout       4\n",
      "Spain         Dropout       4\n",
      "Moldova       Dropout       2\n",
      "Anogola       Dropout       1\n",
      "Colombia      Dropout       1\n",
      "Guinea        Dropout       1\n",
      "Lithuania     Dropout       1\n",
      "Mexico        Dropout       1\n",
      "Russia        Dropout       1\n",
      "Soa Tome      Dropout       1\n",
      "Ukraine       Dropout       1\n",
      "dtype: int64\n"
     ]
    }
   ],
   "source": [
    "# Amount of students drop-out per country \n",
    "dropouts_per_country = grad_per_country[grad_per_country[\"Target\"] == \"Dropout\"]\n",
    "print(dropouts_per_country.value_counts())"
   ]
  },
  {
   "cell_type": "code",
   "execution_count": 33,
   "id": "1252e842",
   "metadata": {},
   "outputs": [],
   "source": [
    "portugal_dropout = dropouts_per_country[dropouts_per_country[\"Country Name\"]==\"Portugal\"].value_counts()"
   ]
  },
  {
   "cell_type": "code",
   "execution_count": 34,
   "id": "68d8dcc7",
   "metadata": {},
   "outputs": [],
   "source": [
    "brazil_dropout = dropouts_per_country[dropouts_per_country[\"Country Name\"]==\"Brazil\"].value_counts()"
   ]
  },
  {
   "cell_type": "code",
   "execution_count": 35,
   "id": "8bd77171",
   "metadata": {},
   "outputs": [],
   "source": [
    "# 0ther countires( with less than 5 partipants) total count\n",
    "other_country_drops = 18"
   ]
  },
  {
   "cell_type": "code",
   "execution_count": 36,
   "id": "5d189995",
   "metadata": {},
   "outputs": [],
   "source": [
    "# Function to calacute %\n",
    "def percentage(part, whole):\n",
    "  Percentage = (float(part)/float(whole)) * 100\n",
    "  return str(Percentage)"
   ]
  },
  {
   "cell_type": "code",
   "execution_count": 37,
   "id": "253f87a5",
   "metadata": {},
   "outputs": [
    {
     "data": {
      "text/plain": [
       "'97.74806474313863'"
      ]
     },
     "execution_count": 37,
     "metadata": {},
     "output_type": "execute_result"
    }
   ],
   "source": [
    "# Percentage of Portugal student Dropouts \n",
    "percentage(portugal_dropout,dropouts)"
   ]
  },
  {
   "cell_type": "code",
   "execution_count": 38,
   "id": "545aa5de",
   "metadata": {},
   "outputs": [
    {
     "data": {
      "text/plain": [
       "'0.9852216748768473'"
      ]
     },
     "execution_count": 38,
     "metadata": {},
     "output_type": "execute_result"
    }
   ],
   "source": [
    "# Percentage of Brazilian student Dropouts \n",
    "percentage(brazil_dropout,dropouts)"
   ]
  },
  {
   "cell_type": "code",
   "execution_count": 39,
   "id": "892d7585",
   "metadata": {},
   "outputs": [
    {
     "data": {
      "text/plain": [
       "'1.266713581984518'"
      ]
     },
     "execution_count": 39,
     "metadata": {},
     "output_type": "execute_result"
    }
   ],
   "source": [
    "# #Percentage of 0ther countires( with less than 5 partipants) dropouts \n",
    "percentage(other_country_drops,dropouts)"
   ]
  },
  {
   "cell_type": "markdown",
   "id": "06d09de7",
   "metadata": {},
   "source": [
    "###### Graduates "
   ]
  },
  {
   "cell_type": "code",
   "execution_count": 40,
   "id": "93c27304",
   "metadata": {},
   "outputs": [
    {
     "name": "stdout",
     "output_type": "stream",
     "text": [
      "Country Name    Target  \n",
      "Portugal        Graduate    2155\n",
      "Brazil          Graduate      18\n",
      "Cabo Verde      Graduate       8\n",
      "Soa Tome        Graduate       8\n",
      "Guinea          Graduate       4\n",
      "Spain           Graduate       4\n",
      "Italy           Graduate       3\n",
      "Germany         Graduate       2\n",
      "Ukraine         Graduate       2\n",
      "Mexico          Graduate       1\n",
      "Mozambique      Graduate       1\n",
      "Netherlands     Graduate       1\n",
      "Romania         Graduate       1\n",
      "United Kingdom  Graduate       1\n",
      "dtype: int64\n"
     ]
    }
   ],
   "source": [
    "# Amount of students graduated per country \n",
    "graduates_per_country = grad_per_country[grad_per_country[\"Target\"] == \"Graduate\"]\n",
    "print(graduates_per_country.value_counts())"
   ]
  },
  {
   "cell_type": "code",
   "execution_count": 41,
   "id": "09363de5",
   "metadata": {},
   "outputs": [],
   "source": [
    "portugal_grads = graduates_per_country[graduates_per_country[\"Country Name\"]==\"Portugal\"].value_counts()"
   ]
  },
  {
   "cell_type": "code",
   "execution_count": 42,
   "id": "364d311d",
   "metadata": {},
   "outputs": [],
   "source": [
    "brazilian_grads = graduates_per_country[graduates_per_country[\"Country Name\"]==\"Brazil\"].value_counts()"
   ]
  },
  {
   "cell_type": "code",
   "execution_count": 43,
   "id": "6b4899ff",
   "metadata": {},
   "outputs": [],
   "source": [
    "cabo_grads = graduates_per_country[graduates_per_country[\"Country Name\"]==\"Cabo Verde\"].value_counts()"
   ]
  },
  {
   "cell_type": "code",
   "execution_count": 44,
   "id": "43e8855e",
   "metadata": {},
   "outputs": [],
   "source": [
    "soa_grads = graduates_per_country[graduates_per_country[\"Country Name\"]==\"Soa Tome\"].value_counts()"
   ]
  },
  {
   "cell_type": "code",
   "execution_count": 45,
   "id": "83d6db5f",
   "metadata": {},
   "outputs": [],
   "source": [
    "# 0ther countires( with less than 5 partipants) total count\n",
    "other_country_grads = 20"
   ]
  },
  {
   "cell_type": "code",
   "execution_count": 46,
   "id": "87a7e063",
   "metadata": {},
   "outputs": [
    {
     "data": {
      "text/plain": [
       "'97.55545495699411'"
      ]
     },
     "execution_count": 46,
     "metadata": {},
     "output_type": "execute_result"
    }
   ],
   "source": [
    "# Percentage of Portugal student Graduates\n",
    "percentage(portugal_grads,grads)"
   ]
  },
  {
   "cell_type": "code",
   "execution_count": 47,
   "id": "21561d02",
   "metadata": {},
   "outputs": [
    {
     "data": {
      "text/plain": [
       "'0.8148483476686283'"
      ]
     },
     "execution_count": 47,
     "metadata": {},
     "output_type": "execute_result"
    }
   ],
   "source": [
    "# Percentage of Brazilian student graduates\n",
    "percentage(brazilian_grads,grads)"
   ]
  },
  {
   "cell_type": "code",
   "execution_count": 48,
   "id": "d5d4a26a",
   "metadata": {},
   "outputs": [
    {
     "data": {
      "text/plain": [
       "'0.362154821186057'"
      ]
     },
     "execution_count": 48,
     "metadata": {},
     "output_type": "execute_result"
    }
   ],
   "source": [
    "# Percentage of Cabo Verbe student graduates\n",
    "percentage(cabo_grads,grads)"
   ]
  },
  {
   "cell_type": "code",
   "execution_count": 49,
   "id": "71d8254d",
   "metadata": {},
   "outputs": [
    {
     "data": {
      "text/plain": [
       "'0.362154821186057'"
      ]
     },
     "execution_count": 49,
     "metadata": {},
     "output_type": "execute_result"
    }
   ],
   "source": [
    "# Percentage of Soa Tome student graduates\n",
    "percentage(soa_grads,grads)"
   ]
  },
  {
   "cell_type": "code",
   "execution_count": 50,
   "id": "406f6a86",
   "metadata": {},
   "outputs": [
    {
     "data": {
      "text/plain": [
       "'0.9053870529651425'"
      ]
     },
     "execution_count": 50,
     "metadata": {},
     "output_type": "execute_result"
    }
   ],
   "source": [
    "#Percentage of 0ther countires( with less than 5 partipants) Grads \n",
    "percentage(other_country_grads,grads)"
   ]
  },
  {
   "cell_type": "markdown",
   "id": "93e99113",
   "metadata": {},
   "source": [
    "###### Enrollment "
   ]
  },
  {
   "cell_type": "code",
   "execution_count": 51,
   "id": "e2260e21",
   "metadata": {},
   "outputs": [
    {
     "name": "stdout",
     "output_type": "stream",
     "text": [
      "Country Name  Target  \n",
      "Portugal      Enrolled    770\n",
      "Brazil        Enrolled      6\n",
      "Soa Tome      Enrolled      5\n",
      "Spain         Enrolled      5\n",
      "Anogola       Enrolled      1\n",
      "Cabo Verde    Enrolled      1\n",
      "Cuba          Enrolled      1\n",
      "Moldova       Enrolled      1\n",
      "Mozambique    Enrolled      1\n",
      "Romania       Enrolled      1\n",
      "Russia        Enrolled      1\n",
      "Turkey        Enrolled      1\n",
      "dtype: int64\n"
     ]
    }
   ],
   "source": [
    "# Amount of students enrolled per country - \n",
    "print(grad_per_country[grad_per_country[\"Target\"] == \"Enrolled\"].value_counts())"
   ]
  },
  {
   "cell_type": "code",
   "execution_count": 52,
   "id": "8abd4905",
   "metadata": {},
   "outputs": [
    {
     "name": "stdout",
     "output_type": "stream",
     "text": [
      "Country Name  Target  \n",
      "Portugal      Enrolled    0.969773\n",
      "Brazil        Enrolled    0.007557\n",
      "Soa Tome      Enrolled    0.006297\n",
      "Spain         Enrolled    0.006297\n",
      "Anogola       Enrolled    0.001259\n",
      "Cabo Verde    Enrolled    0.001259\n",
      "Cuba          Enrolled    0.001259\n",
      "Moldova       Enrolled    0.001259\n",
      "Mozambique    Enrolled    0.001259\n",
      "Romania       Enrolled    0.001259\n",
      "Russia        Enrolled    0.001259\n",
      "Turkey        Enrolled    0.001259\n",
      "dtype: float64\n"
     ]
    }
   ],
   "source": [
    "# Amount of students enrolled per country - relative value \n",
    "print(grad_per_country[grad_per_country[\"Target\"] == \"Enrolled\"].value_counts(normalize=True))"
   ]
  },
  {
   "cell_type": "markdown",
   "id": "0fb79346",
   "metadata": {},
   "source": [
    "#### Scholarship Holders per Country "
   ]
  },
  {
   "cell_type": "code",
   "execution_count": 53,
   "id": "b346724a",
   "metadata": {},
   "outputs": [],
   "source": [
    "# Dataframe of scholarship holders and graduates/drop outs per country \n",
    "scholars_per_country = student_success[['Scholarship holder','Target']]\n",
    "scholars_per_country= pd.DataFrame(scholars_per_country)\n",
    "scholars_per_country\n",
    "scholars_per_country.reset_index(inplace=True)"
   ]
  },
  {
   "cell_type": "code",
   "execution_count": 54,
   "id": "70df91d5",
   "metadata": {},
   "outputs": [
    {
     "name": "stdout",
     "output_type": "stream",
     "text": [
      "<class 'pandas.core.frame.DataFrame'>\n",
      "RangeIndex: 4424 entries, 0 to 4423\n",
      "Data columns (total 3 columns):\n",
      " #   Column              Non-Null Count  Dtype \n",
      "---  ------              --------------  ----- \n",
      " 0   Country Name        4424 non-null   object\n",
      " 1   Scholarship holder  4424 non-null   int64 \n",
      " 2   Target              4424 non-null   object\n",
      "dtypes: int64(1), object(2)\n",
      "memory usage: 103.8+ KB\n"
     ]
    }
   ],
   "source": [
    "scholars_per_country.info()"
   ]
  },
  {
   "cell_type": "code",
   "execution_count": 55,
   "id": "3ff705bc",
   "metadata": {},
   "outputs": [
    {
     "data": {
      "text/plain": [
       "0    3325\n",
       "1    1099\n",
       "Name: Scholarship holder, dtype: int64"
      ]
     },
     "execution_count": 55,
     "metadata": {},
     "output_type": "execute_result"
    }
   ],
   "source": [
    "# Ledger: # 1: scholarship holder,  0: nonscholarship holder \n",
    "student_success['Scholarship holder'].value_counts()"
   ]
  },
  {
   "cell_type": "code",
   "execution_count": 56,
   "id": "bfdd3fd5",
   "metadata": {},
   "outputs": [],
   "source": [
    "scholarship_holders = 1099"
   ]
  },
  {
   "cell_type": "code",
   "execution_count": 57,
   "id": "0aaf66cd",
   "metadata": {},
   "outputs": [],
   "source": [
    "nonscholarship_holders = 3325"
   ]
  },
  {
   "cell_type": "code",
   "execution_count": 58,
   "id": "e4cab0ed",
   "metadata": {},
   "outputs": [
    {
     "data": {
      "text/plain": [
       "<Axes: title={'center': 'Scholarship Holders and Graduate/Drop-Out'}, xlabel='Scholarship holder'>"
      ]
     },
     "execution_count": 58,
     "metadata": {},
     "output_type": "execute_result"
    },
    {
     "data": {
      "image/png": "[encoded data removed]",
      "text/plain": [
       "<Figure size 640x480 with 1 Axes>"
      ]
     },
     "metadata": {},
     "output_type": "display_data"
    }
   ],
   "source": [
    "# Bar Graph of Scholarship Holders & NonScholarship Holders \n",
    "# Ledger: # 1: scholarship holder,  0: nonscholarship holder \n",
    "scholars_per_country.groupby(['Scholarship holder', 'Target']).size().unstack().plot(kind='bar', stacked=True, title='Scholarship Holders and Graduate/Drop-Out')"
   ]
  },
  {
   "cell_type": "code",
   "execution_count": 59,
   "id": "b1a7a18d",
   "metadata": {},
   "outputs": [
    {
     "data": {
      "text/html": [
       "<div>\n",
       "<style scoped>\n",
       "    .dataframe tbody tr th:only-of-type {\n",
       "        vertical-align: middle;\n",
       "    }\n",
       "\n",
       "    .dataframe tbody tr th {\n",
       "        vertical-align: top;\n",
       "    }\n",
       "\n",
       "    .dataframe thead th {\n",
       "        text-align: right;\n",
       "    }\n",
       "</style>\n",
       "<table border=\"1\" class=\"dataframe\">\n",
       "  <thead>\n",
       "    <tr style=\"text-align: right;\">\n",
       "      <th></th>\n",
       "      <th>Country Name</th>\n",
       "      <th>Scholarship holder</th>\n",
       "      <th>Target</th>\n",
       "    </tr>\n",
       "  </thead>\n",
       "  <tbody>\n",
       "    <tr>\n",
       "      <th>0</th>\n",
       "      <td>Portugal</td>\n",
       "      <td>0</td>\n",
       "      <td>Dropout</td>\n",
       "    </tr>\n",
       "    <tr>\n",
       "      <th>1</th>\n",
       "      <td>Portugal</td>\n",
       "      <td>0</td>\n",
       "      <td>Graduate</td>\n",
       "    </tr>\n",
       "    <tr>\n",
       "      <th>2</th>\n",
       "      <td>Portugal</td>\n",
       "      <td>0</td>\n",
       "      <td>Dropout</td>\n",
       "    </tr>\n",
       "    <tr>\n",
       "      <th>3</th>\n",
       "      <td>Portugal</td>\n",
       "      <td>0</td>\n",
       "      <td>Graduate</td>\n",
       "    </tr>\n",
       "    <tr>\n",
       "      <th>4</th>\n",
       "      <td>Portugal</td>\n",
       "      <td>0</td>\n",
       "      <td>Graduate</td>\n",
       "    </tr>\n",
       "  </tbody>\n",
       "</table>\n",
       "</div>"
      ],
      "text/plain": [
       "  Country Name  Scholarship holder    Target\n",
       "0     Portugal                   0   Dropout\n",
       "1     Portugal                   0  Graduate\n",
       "2     Portugal                   0   Dropout\n",
       "3     Portugal                   0  Graduate\n",
       "4     Portugal                   0  Graduate"
      ]
     },
     "execution_count": 59,
     "metadata": {},
     "output_type": "execute_result"
    }
   ],
   "source": [
    "scholars_per_country.head()"
   ]
  },
  {
   "cell_type": "code",
   "execution_count": 60,
   "id": "383ae623",
   "metadata": {},
   "outputs": [],
   "source": [
    "scholarship_and_nonscholarshop = scholars_per_country[scholars_per_country[\"Target\"] == \"Graduate\"]"
   ]
  },
  {
   "cell_type": "code",
   "execution_count": 61,
   "id": "e84bbbc2",
   "metadata": {},
   "outputs": [
    {
     "data": {
      "text/plain": [
       "Country Name  Scholarship holder  Target  \n",
       "Portugal      1                   Graduate    820\n",
       "Brazil        1                   Graduate      7\n",
       "Guinea        1                   Graduate      2\n",
       "Cabo Verde    1                   Graduate      1\n",
       "Germany       1                   Graduate      1\n",
       "Italy         1                   Graduate      1\n",
       "Netherlands   1                   Graduate      1\n",
       "Romania       1                   Graduate      1\n",
       "Ukraine       1                   Graduate      1\n",
       "dtype: int64"
      ]
     },
     "execution_count": 61,
     "metadata": {},
     "output_type": "execute_result"
    }
   ],
   "source": [
    "scholarship_holders = scholarship_and_nonscholarshop[scholarship_and_nonscholarshop[\"Scholarship holder\"] == 1]\n",
    "scholarship_holders.value_counts()"
   ]
  },
  {
   "cell_type": "code",
   "execution_count": 62,
   "id": "289cc89f",
   "metadata": {},
   "outputs": [],
   "source": [
    "#Percentage of holdership holders that gradaute ( whole particants vs scholarship holders )\n",
    "graduate_scholarshipholder = 835"
   ]
  },
  {
   "cell_type": "code",
   "execution_count": 63,
   "id": "050834b2",
   "metadata": {},
   "outputs": [
    {
     "data": {
      "text/plain": [
       "'37.7999094612947'"
      ]
     },
     "execution_count": 63,
     "metadata": {},
     "output_type": "execute_result"
    }
   ],
   "source": [
    "# Percentage of students who graduated with scholarships (compared to total graduate total) \n",
    "percentage(graduate_scholarshipholder,grads)"
   ]
  },
  {
   "cell_type": "code",
   "execution_count": 64,
   "id": "5e278702",
   "metadata": {},
   "outputs": [],
   "source": [
    "# Portugal Scholarship Holders Graduate Count \n",
    "port_scholar_grads = scholarship_holders[scholarship_holders[\"Country Name\"]==\"Portugal\"].value_counts()"
   ]
  },
  {
   "cell_type": "code",
   "execution_count": 65,
   "id": "2e3c2fff",
   "metadata": {},
   "outputs": [],
   "source": [
    "# Brazil Scholarship Holders Graduate Rate\n",
    "braz_scholar_grads = scholarship_holders[scholarship_holders[\"Country Name\"]==\"Brazil\"].value_counts()"
   ]
  },
  {
   "cell_type": "code",
   "execution_count": 66,
   "id": "34578e20",
   "metadata": {},
   "outputs": [],
   "source": [
    "# 0ther countires( with less than 5 partipants) scholarship holders graduate count  \n",
    "other_scholars = 8 "
   ]
  },
  {
   "cell_type": "code",
   "execution_count": 70,
   "id": "cef2a69b",
   "metadata": {},
   "outputs": [
    {
     "data": {
      "text/plain": [
       "'98.20359281437125'"
      ]
     },
     "execution_count": 70,
     "metadata": {},
     "output_type": "execute_result"
    }
   ],
   "source": [
    "# Percentage of scholarship holders from Portugal who graduted \n",
    "percentage(port_scholar_grads,graduate_scholarshipholder)"
   ]
  },
  {
   "cell_type": "code",
   "execution_count": 71,
   "id": "30847f67",
   "metadata": {},
   "outputs": [
    {
     "data": {
      "text/plain": [
       "'0.8383233532934131'"
      ]
     },
     "execution_count": 71,
     "metadata": {},
     "output_type": "execute_result"
    }
   ],
   "source": [
    "# Percentage of scholarship holders from Brazil who graduted \n",
    "percentage(braz_scholar_grads,graduate_scholarshipholder)"
   ]
  },
  {
   "cell_type": "code",
   "execution_count": 72,
   "id": "49b84c70",
   "metadata": {},
   "outputs": [
    {
     "data": {
      "text/plain": [
       "'0.9580838323353293'"
      ]
     },
     "execution_count": 72,
     "metadata": {},
     "output_type": "execute_result"
    }
   ],
   "source": [
    "# Percentage 0ther countires( with less than 5 partipants) scholarship holders graduated\n",
    "percentage(other_scholars,graduate_scholarshipholder)"
   ]
  },
  {
   "cell_type": "code",
   "execution_count": 73,
   "id": "99d60c70",
   "metadata": {},
   "outputs": [
    {
     "data": {
      "text/plain": [
       "Country Name  Scholarship holder  Target \n",
       "Portugal      0                   Dropout    0.885292\n",
       "              1                   Dropout    0.092189\n",
       "Brazil        0                   Dropout    0.009148\n",
       "Cabo Verde    0                   Dropout    0.002815\n",
       "Spain         0                   Dropout    0.002815\n",
       "Moldova       0                   Dropout    0.001407\n",
       "Anogola       0                   Dropout    0.000704\n",
       "Brazil        1                   Dropout    0.000704\n",
       "Colombia      1                   Dropout    0.000704\n",
       "Guinea        0                   Dropout    0.000704\n",
       "Lithuania     0                   Dropout    0.000704\n",
       "Mexico        1                   Dropout    0.000704\n",
       "Russia        0                   Dropout    0.000704\n",
       "Soa Tome      0                   Dropout    0.000704\n",
       "Ukraine       0                   Dropout    0.000704\n",
       "dtype: float64"
      ]
     },
     "execution_count": 73,
     "metadata": {},
     "output_type": "execute_result"
    }
   ],
   "source": [
    "scholar_dropouts = scholars_per_country[scholars_per_country[\"Target\"] == \"Dropout\"]\n",
    "scholar_dropouts.value_counts(normalize=True)"
   ]
  },
  {
   "cell_type": "markdown",
   "id": "fbdae628",
   "metadata": {},
   "source": [
    "### Gender  Stats "
   ]
  },
  {
   "cell_type": "code",
   "execution_count": 74,
   "id": "63d660a2",
   "metadata": {},
   "outputs": [
    {
     "data": {
      "text/plain": [
       "0    2868\n",
       "1    1556\n",
       "Name: Gender, dtype: int64"
      ]
     },
     "execution_count": 74,
     "metadata": {},
     "output_type": "execute_result"
    }
   ],
   "source": [
    "# pie chart of student genders , see if you can relate that to succees ( targert column )\n",
    "# female student = 0 , male students = 1 \n",
    "gender = student_success['Gender']\n",
    "gender.value_counts()"
   ]
  },
  {
   "cell_type": "code",
   "execution_count": 75,
   "id": "6938c33b",
   "metadata": {},
   "outputs": [],
   "source": [
    "female_count = 2868\n",
    "male_count = 1556"
   ]
  },
  {
   "cell_type": "code",
   "execution_count": 76,
   "id": "7c40181f",
   "metadata": {},
   "outputs": [
    {
     "data": {
      "text/html": [
       "<div>\n",
       "<style scoped>\n",
       "    .dataframe tbody tr th:only-of-type {\n",
       "        vertical-align: middle;\n",
       "    }\n",
       "\n",
       "    .dataframe tbody tr th {\n",
       "        vertical-align: top;\n",
       "    }\n",
       "\n",
       "    .dataframe thead th {\n",
       "        text-align: right;\n",
       "    }\n",
       "</style>\n",
       "<table border=\"1\" class=\"dataframe\">\n",
       "  <thead>\n",
       "    <tr style=\"text-align: right;\">\n",
       "      <th></th>\n",
       "      <th>Gender</th>\n",
       "    </tr>\n",
       "    <tr>\n",
       "      <th>Country Name</th>\n",
       "      <th></th>\n",
       "    </tr>\n",
       "  </thead>\n",
       "  <tbody>\n",
       "    <tr>\n",
       "      <th>Portugal</th>\n",
       "      <td>1</td>\n",
       "    </tr>\n",
       "    <tr>\n",
       "      <th>Portugal</th>\n",
       "      <td>1</td>\n",
       "    </tr>\n",
       "    <tr>\n",
       "      <th>Portugal</th>\n",
       "      <td>1</td>\n",
       "    </tr>\n",
       "    <tr>\n",
       "      <th>Portugal</th>\n",
       "      <td>0</td>\n",
       "    </tr>\n",
       "    <tr>\n",
       "      <th>Portugal</th>\n",
       "      <td>0</td>\n",
       "    </tr>\n",
       "    <tr>\n",
       "      <th>...</th>\n",
       "      <td>...</td>\n",
       "    </tr>\n",
       "    <tr>\n",
       "      <th>Portugal</th>\n",
       "      <td>1</td>\n",
       "    </tr>\n",
       "    <tr>\n",
       "      <th>Russia</th>\n",
       "      <td>0</td>\n",
       "    </tr>\n",
       "    <tr>\n",
       "      <th>Portugal</th>\n",
       "      <td>0</td>\n",
       "    </tr>\n",
       "    <tr>\n",
       "      <th>Portugal</th>\n",
       "      <td>0</td>\n",
       "    </tr>\n",
       "    <tr>\n",
       "      <th>Cabo Verde</th>\n",
       "      <td>0</td>\n",
       "    </tr>\n",
       "  </tbody>\n",
       "</table>\n",
       "<p>4424 rows × 1 columns</p>\n",
       "</div>"
      ],
      "text/plain": [
       "              Gender\n",
       "Country Name        \n",
       "Portugal           1\n",
       "Portugal           1\n",
       "Portugal           1\n",
       "Portugal           0\n",
       "Portugal           0\n",
       "...              ...\n",
       "Portugal           1\n",
       "Russia             0\n",
       "Portugal           0\n",
       "Portugal           0\n",
       "Cabo Verde         0\n",
       "\n",
       "[4424 rows x 1 columns]"
      ]
     },
     "execution_count": 76,
     "metadata": {},
     "output_type": "execute_result"
    }
   ],
   "source": [
    "gender = pd.DataFrame(gender)\n",
    "gender"
   ]
  },
  {
   "cell_type": "code",
   "execution_count": 77,
   "id": "471acc66",
   "metadata": {},
   "outputs": [
    {
     "data": {
      "text/plain": [
       "Country Name    Gender\n",
       "Portugal        0         2788\n",
       "Brazil          0           29\n",
       "Cabo Verde      0           11\n",
       "Spain           0           10\n",
       "Soa Tome        0            8\n",
       "Guinea          0            5\n",
       "Moldova         0            3\n",
       "Ukraine         0            2\n",
       "Russia          0            2\n",
       "Turkey          0            1\n",
       "Romania         0            1\n",
       "Anogola         0            1\n",
       "Netherlands     0            1\n",
       "Lithuania       0            1\n",
       "Italy           0            1\n",
       "Germany         0            1\n",
       "Cuba            0            1\n",
       "Colombia        0            1\n",
       "United Kingdom  0            1\n",
       "dtype: int64"
      ]
     },
     "execution_count": 77,
     "metadata": {},
     "output_type": "execute_result"
    }
   ],
   "source": [
    "# female students per country \n",
    "female_students = gender[gender['Gender']==0]\n",
    "female_students.reset_index().value_counts()"
   ]
  },
  {
   "cell_type": "code",
   "execution_count": 78,
   "id": "8580816b",
   "metadata": {},
   "outputs": [
    {
     "data": {
      "text/plain": [
       "Country Name  Gender\n",
       "Portugal      1         1526\n",
       "Brazil        1            9\n",
       "Soa Tome      1            6\n",
       "Spain         1            3\n",
       "Cabo Verde    1            2\n",
       "Italy         1            2\n",
       "Mexico        1            2\n",
       "Mozambique    1            2\n",
       "Anogola       1            1\n",
       "Germany       1            1\n",
       "Romania       1            1\n",
       "Ukraine       1            1\n",
       "dtype: int64"
      ]
     },
     "execution_count": 78,
     "metadata": {},
     "output_type": "execute_result"
    }
   ],
   "source": [
    "# male students per country \n",
    "male_students = gender[gender['Gender']==1]\n",
    "male_students.reset_index().value_counts()"
   ]
  },
  {
   "cell_type": "code",
   "execution_count": 79,
   "id": "3f512e1f",
   "metadata": {},
   "outputs": [
    {
     "data": {
      "text/html": [
       "<div>\n",
       "<style scoped>\n",
       "    .dataframe tbody tr th:only-of-type {\n",
       "        vertical-align: middle;\n",
       "    }\n",
       "\n",
       "    .dataframe tbody tr th {\n",
       "        vertical-align: top;\n",
       "    }\n",
       "\n",
       "    .dataframe thead th {\n",
       "        text-align: right;\n",
       "    }\n",
       "</style>\n",
       "<table border=\"1\" class=\"dataframe\">\n",
       "  <thead>\n",
       "    <tr style=\"text-align: right;\">\n",
       "      <th></th>\n",
       "      <th>Country Name</th>\n",
       "      <th>Gender</th>\n",
       "      <th>Target</th>\n",
       "    </tr>\n",
       "  </thead>\n",
       "  <tbody>\n",
       "    <tr>\n",
       "      <th>0</th>\n",
       "      <td>Portugal</td>\n",
       "      <td>1</td>\n",
       "      <td>Dropout</td>\n",
       "    </tr>\n",
       "    <tr>\n",
       "      <th>1</th>\n",
       "      <td>Portugal</td>\n",
       "      <td>1</td>\n",
       "      <td>Graduate</td>\n",
       "    </tr>\n",
       "    <tr>\n",
       "      <th>2</th>\n",
       "      <td>Portugal</td>\n",
       "      <td>1</td>\n",
       "      <td>Dropout</td>\n",
       "    </tr>\n",
       "    <tr>\n",
       "      <th>3</th>\n",
       "      <td>Portugal</td>\n",
       "      <td>0</td>\n",
       "      <td>Graduate</td>\n",
       "    </tr>\n",
       "    <tr>\n",
       "      <th>4</th>\n",
       "      <td>Portugal</td>\n",
       "      <td>0</td>\n",
       "      <td>Graduate</td>\n",
       "    </tr>\n",
       "    <tr>\n",
       "      <th>...</th>\n",
       "      <td>...</td>\n",
       "      <td>...</td>\n",
       "      <td>...</td>\n",
       "    </tr>\n",
       "    <tr>\n",
       "      <th>4419</th>\n",
       "      <td>Portugal</td>\n",
       "      <td>1</td>\n",
       "      <td>Graduate</td>\n",
       "    </tr>\n",
       "    <tr>\n",
       "      <th>4420</th>\n",
       "      <td>Russia</td>\n",
       "      <td>0</td>\n",
       "      <td>Dropout</td>\n",
       "    </tr>\n",
       "    <tr>\n",
       "      <th>4421</th>\n",
       "      <td>Portugal</td>\n",
       "      <td>0</td>\n",
       "      <td>Dropout</td>\n",
       "    </tr>\n",
       "    <tr>\n",
       "      <th>4422</th>\n",
       "      <td>Portugal</td>\n",
       "      <td>0</td>\n",
       "      <td>Graduate</td>\n",
       "    </tr>\n",
       "    <tr>\n",
       "      <th>4423</th>\n",
       "      <td>Cabo Verde</td>\n",
       "      <td>0</td>\n",
       "      <td>Graduate</td>\n",
       "    </tr>\n",
       "  </tbody>\n",
       "</table>\n",
       "<p>4424 rows × 3 columns</p>\n",
       "</div>"
      ],
      "text/plain": [
       "     Country Name  Gender    Target\n",
       "0        Portugal       1   Dropout\n",
       "1        Portugal       1  Graduate\n",
       "2        Portugal       1   Dropout\n",
       "3        Portugal       0  Graduate\n",
       "4        Portugal       0  Graduate\n",
       "...           ...     ...       ...\n",
       "4419     Portugal       1  Graduate\n",
       "4420       Russia       0   Dropout\n",
       "4421     Portugal       0   Dropout\n",
       "4422     Portugal       0  Graduate\n",
       "4423   Cabo Verde       0  Graduate\n",
       "\n",
       "[4424 rows x 3 columns]"
      ]
     },
     "execution_count": 79,
     "metadata": {},
     "output_type": "execute_result"
    }
   ],
   "source": [
    "# df of gender and target column \n",
    "success_per_gender = student_success[['Gender','Target']]\n",
    "success_per_gender.reset_index(inplace=True)\n",
    "success_per_gender"
   ]
  },
  {
   "cell_type": "code",
   "execution_count": 80,
   "id": "c058ee04",
   "metadata": {},
   "outputs": [
    {
     "data": {
      "text/plain": [
       "Country Name    Gender  Target  \n",
       "Portugal        0       Graduate    1619\n",
       "                        Dropout      697\n",
       "                        Enrolled     472\n",
       "Brazil          0       Graduate      17\n",
       "                        Dropout        8\n",
       "Cabo Verde      0       Graduate       7\n",
       "Soa Tome        0       Graduate       5\n",
       "Spain           0       Enrolled       4\n",
       "Brazil          0       Enrolled       4\n",
       "Guinea          0       Graduate       4\n",
       "Cabo Verde      0       Dropout        3\n",
       "Spain           0       Graduate       3\n",
       "                        Dropout        3\n",
       "Soa Tome        0       Enrolled       2\n",
       "Moldova         0       Dropout        2\n",
       "Anogola         0       Dropout        1\n",
       "Russia          0       Enrolled       1\n",
       "Turkey          0       Enrolled       1\n",
       "Ukraine         0       Dropout        1\n",
       "                        Graduate       1\n",
       "Soa Tome        0       Dropout        1\n",
       "Netherlands     0       Graduate       1\n",
       "Russia          0       Dropout        1\n",
       "Romania         0       Graduate       1\n",
       "Moldova         0       Enrolled       1\n",
       "Lithuania       0       Dropout        1\n",
       "Italy           0       Graduate       1\n",
       "Guinea          0       Dropout        1\n",
       "Germany         0       Graduate       1\n",
       "Cuba            0       Enrolled       1\n",
       "Colombia        0       Dropout        1\n",
       "Cabo Verde      0       Enrolled       1\n",
       "United Kingdom  0       Graduate       1\n",
       "dtype: int64"
      ]
     },
     "execution_count": 80,
     "metadata": {},
     "output_type": "execute_result"
    }
   ],
   "source": [
    "# Female students: Graduate/Dropout/ Enrolled \n",
    "female_stats = success_per_gender[success_per_gender['Gender']==0].value_counts()\n",
    "female_stats"
   ]
  },
  {
   "cell_type": "code",
   "execution_count": 81,
   "id": "ba8cc839",
   "metadata": {},
   "outputs": [],
   "source": [
    "female_grads = 1661"
   ]
  },
  {
   "cell_type": "code",
   "execution_count": 82,
   "id": "e106ae78",
   "metadata": {},
   "outputs": [
    {
     "data": {
      "text/plain": [
       "'37.545207956600365'"
      ]
     },
     "execution_count": 82,
     "metadata": {},
     "output_type": "execute_result"
    }
   ],
   "source": [
    "# Female Graduates (compared to the whole study)\n",
    "percentage(female_grads,4424)"
   ]
  },
  {
   "cell_type": "code",
   "execution_count": 83,
   "id": "205b5eb5",
   "metadata": {},
   "outputs": [
    {
     "data": {
      "text/plain": [
       "'57.91492329149233'"
      ]
     },
     "execution_count": 83,
     "metadata": {},
     "output_type": "execute_result"
    }
   ],
   "source": [
    "# Percentage of Female Students Graduates\n",
    "percentage(1661,female_count)"
   ]
  },
  {
   "cell_type": "code",
   "execution_count": 84,
   "id": "391418a2",
   "metadata": {},
   "outputs": [
    {
     "data": {
      "text/plain": [
       "'97.47140276941602'"
      ]
     },
     "execution_count": 84,
     "metadata": {},
     "output_type": "execute_result"
    }
   ],
   "source": [
    "# Percentage of Female Portugal Students who Graduted \n",
    "percentage(1619,female_grads)"
   ]
  },
  {
   "cell_type": "code",
   "execution_count": 85,
   "id": "4507edaa",
   "metadata": {},
   "outputs": [
    {
     "data": {
      "text/plain": [
       "'1.0234798314268514'"
      ]
     },
     "execution_count": 85,
     "metadata": {},
     "output_type": "execute_result"
    }
   ],
   "source": [
    "# Percentage of Female Brazil Students who Graduted \n",
    "percentage(17,female_grads)"
   ]
  },
  {
   "cell_type": "code",
   "execution_count": 86,
   "id": "88ccdc5a",
   "metadata": {},
   "outputs": [
    {
     "data": {
      "text/plain": [
       "'0.4214328717639976'"
      ]
     },
     "execution_count": 86,
     "metadata": {},
     "output_type": "execute_result"
    }
   ],
   "source": [
    "# Percentage of Female Cabo Verde Students who Graduted \n",
    "percentage(7,female_grads)"
   ]
  },
  {
   "cell_type": "code",
   "execution_count": 87,
   "id": "c201e18b",
   "metadata": {},
   "outputs": [
    {
     "data": {
      "text/plain": [
       "'0.30102347983142685'"
      ]
     },
     "execution_count": 87,
     "metadata": {},
     "output_type": "execute_result"
    }
   ],
   "source": [
    "# Percentage of Female Soa Tome Students who Graduted\n",
    "percentage(5,female_grads)"
   ]
  },
  {
   "cell_type": "code",
   "execution_count": 88,
   "id": "395c478d",
   "metadata": {},
   "outputs": [
    {
     "data": {
      "text/plain": [
       "'0.30102347983142685'"
      ]
     },
     "execution_count": 88,
     "metadata": {},
     "output_type": "execute_result"
    }
   ],
   "source": [
    "# Other countries Female Graduates \n",
    "percentage(5,female_grads)"
   ]
  },
  {
   "cell_type": "code",
   "execution_count": 89,
   "id": "b97f01c7",
   "metadata": {},
   "outputs": [
    {
     "data": {
      "text/plain": [
       "<Axes: title={'center': 'Female Graduates/ Dropouts'}, xlabel='Country Name'>"
      ]
     },
     "execution_count": 89,
     "metadata": {},
     "output_type": "execute_result"
    },
    {
     "data": {
      "image/png": "[encoded data removed]",
      "text/plain": [
       "<Figure size 640x480 with 1 Axes>"
      ]
     },
     "metadata": {},
     "output_type": "display_data"
    }
   ],
   "source": [
    "# Stacked Bar graph of female students who graduated, dropout, enrolled \n",
    "female_stats.groupby(['Country Name', 'Target']).size().unstack().plot(kind='bar', stacked=True,rot=75,\n",
    "            title='Female Graduates/ Dropouts')"
   ]
  },
  {
   "cell_type": "code",
   "execution_count": 90,
   "id": "f54c06f0",
   "metadata": {},
   "outputs": [
    {
     "data": {
      "text/plain": [
       "Country Name  Gender  Target  \n",
       "Portugal      1       Dropout     692\n",
       "                      Graduate    536\n",
       "                      Enrolled    298\n",
       "Brazil        1       Dropout       6\n",
       "Soa Tome      1       Graduate      3\n",
       "                      Enrolled      3\n",
       "Brazil        1       Enrolled      2\n",
       "Italy         1       Graduate      2\n",
       "Anogola       1       Enrolled      1\n",
       "Spain         1       Graduate      1\n",
       "                      Enrolled      1\n",
       "                      Dropout       1\n",
       "Romania       1       Enrolled      1\n",
       "Mozambique    1       Graduate      1\n",
       "                      Enrolled      1\n",
       "Mexico        1       Graduate      1\n",
       "                      Dropout       1\n",
       "Germany       1       Graduate      1\n",
       "Cabo Verde    1       Graduate      1\n",
       "                      Dropout       1\n",
       "Brazil        1       Graduate      1\n",
       "Ukraine       1       Graduate      1\n",
       "dtype: int64"
      ]
     },
     "execution_count": 90,
     "metadata": {},
     "output_type": "execute_result"
    }
   ],
   "source": [
    "# Male students: Graduate/Dropout/ Enrolled \n",
    "male_stats = success_per_gender[success_per_gender['Gender']==1].value_counts()\n",
    "male_stats"
   ]
  },
  {
   "cell_type": "code",
   "execution_count": 91,
   "id": "e33ddf15",
   "metadata": {},
   "outputs": [],
   "source": [
    "male_grads = 548"
   ]
  },
  {
   "cell_type": "code",
   "execution_count": 92,
   "id": "e584305e",
   "metadata": {},
   "outputs": [
    {
     "data": {
      "text/plain": [
       "'12.386980108499095'"
      ]
     },
     "execution_count": 92,
     "metadata": {},
     "output_type": "execute_result"
    }
   ],
   "source": [
    "# Male Graduates (compared to the whole study)\n",
    "percentage(male_grads,4424)"
   ]
  },
  {
   "cell_type": "code",
   "execution_count": 93,
   "id": "21d43630",
   "metadata": {},
   "outputs": [
    {
     "data": {
      "text/plain": [
       "'35.2185089974293'"
      ]
     },
     "execution_count": 93,
     "metadata": {},
     "output_type": "execute_result"
    }
   ],
   "source": [
    "# Percentage of Male Students Graduates\n",
    "percentage(male_grads,male_count)"
   ]
  },
  {
   "cell_type": "code",
   "execution_count": 94,
   "id": "658bc6ee",
   "metadata": {},
   "outputs": [
    {
     "data": {
      "text/plain": [
       "'97.8102189781022'"
      ]
     },
     "execution_count": 94,
     "metadata": {},
     "output_type": "execute_result"
    }
   ],
   "source": [
    "# Percentage of male Portugal Students who Graduted \n",
    "percentage(536,male_grads)"
   ]
  },
  {
   "cell_type": "code",
   "execution_count": 95,
   "id": "b6b1ef64",
   "metadata": {},
   "outputs": [
    {
     "data": {
      "text/plain": [
       "<Axes: title={'center': 'Male Graduates/ Dropouts'}, xlabel='Country Name'>"
      ]
     },
     "execution_count": 95,
     "metadata": {},
     "output_type": "execute_result"
    },
    {
     "data": {
      "image/png": "[encoded data removed]",
      "text/plain": [
       "<Figure size 640x480 with 1 Axes>"
      ]
     },
     "metadata": {},
     "output_type": "display_data"
    }
   ],
   "source": [
    "# Stacked Bar graph of male students who graduated, dropout, enrolled \n",
    "male_stats.groupby(['Country Name', 'Target']).size().unstack().plot(kind='bar', stacked=True,rot=75,\n",
    "            title='Male Graduates/ Dropouts')\n"
   ]
  },
  {
   "cell_type": "code",
   "execution_count": 96,
   "id": "2759b262",
   "metadata": {},
   "outputs": [
    {
     "data": {
      "text/html": [
       "<div>\n",
       "<style scoped>\n",
       "    .dataframe tbody tr th:only-of-type {\n",
       "        vertical-align: middle;\n",
       "    }\n",
       "\n",
       "    .dataframe tbody tr th {\n",
       "        vertical-align: top;\n",
       "    }\n",
       "\n",
       "    .dataframe thead th {\n",
       "        text-align: right;\n",
       "    }\n",
       "</style>\n",
       "<table border=\"1\" class=\"dataframe\">\n",
       "  <thead>\n",
       "    <tr style=\"text-align: right;\">\n",
       "      <th></th>\n",
       "      <th>Country Name</th>\n",
       "      <th>Gender</th>\n",
       "      <th>Target</th>\n",
       "      <th>Marital status</th>\n",
       "    </tr>\n",
       "  </thead>\n",
       "  <tbody>\n",
       "    <tr>\n",
       "      <th>0</th>\n",
       "      <td>Portugal</td>\n",
       "      <td>1</td>\n",
       "      <td>Dropout</td>\n",
       "      <td>1</td>\n",
       "    </tr>\n",
       "    <tr>\n",
       "      <th>1</th>\n",
       "      <td>Portugal</td>\n",
       "      <td>1</td>\n",
       "      <td>Graduate</td>\n",
       "      <td>1</td>\n",
       "    </tr>\n",
       "    <tr>\n",
       "      <th>2</th>\n",
       "      <td>Portugal</td>\n",
       "      <td>1</td>\n",
       "      <td>Dropout</td>\n",
       "      <td>1</td>\n",
       "    </tr>\n",
       "    <tr>\n",
       "      <th>3</th>\n",
       "      <td>Portugal</td>\n",
       "      <td>0</td>\n",
       "      <td>Graduate</td>\n",
       "      <td>1</td>\n",
       "    </tr>\n",
       "    <tr>\n",
       "      <th>4</th>\n",
       "      <td>Portugal</td>\n",
       "      <td>0</td>\n",
       "      <td>Graduate</td>\n",
       "      <td>2</td>\n",
       "    </tr>\n",
       "    <tr>\n",
       "      <th>...</th>\n",
       "      <td>...</td>\n",
       "      <td>...</td>\n",
       "      <td>...</td>\n",
       "      <td>...</td>\n",
       "    </tr>\n",
       "    <tr>\n",
       "      <th>4419</th>\n",
       "      <td>Portugal</td>\n",
       "      <td>1</td>\n",
       "      <td>Graduate</td>\n",
       "      <td>1</td>\n",
       "    </tr>\n",
       "    <tr>\n",
       "      <th>4420</th>\n",
       "      <td>Russia</td>\n",
       "      <td>0</td>\n",
       "      <td>Dropout</td>\n",
       "      <td>1</td>\n",
       "    </tr>\n",
       "    <tr>\n",
       "      <th>4421</th>\n",
       "      <td>Portugal</td>\n",
       "      <td>0</td>\n",
       "      <td>Dropout</td>\n",
       "      <td>1</td>\n",
       "    </tr>\n",
       "    <tr>\n",
       "      <th>4422</th>\n",
       "      <td>Portugal</td>\n",
       "      <td>0</td>\n",
       "      <td>Graduate</td>\n",
       "      <td>1</td>\n",
       "    </tr>\n",
       "    <tr>\n",
       "      <th>4423</th>\n",
       "      <td>Cabo Verde</td>\n",
       "      <td>0</td>\n",
       "      <td>Graduate</td>\n",
       "      <td>1</td>\n",
       "    </tr>\n",
       "  </tbody>\n",
       "</table>\n",
       "<p>4424 rows × 4 columns</p>\n",
       "</div>"
      ],
      "text/plain": [
       "     Country Name  Gender    Target  Marital status\n",
       "0        Portugal       1   Dropout               1\n",
       "1        Portugal       1  Graduate               1\n",
       "2        Portugal       1   Dropout               1\n",
       "3        Portugal       0  Graduate               1\n",
       "4        Portugal       0  Graduate               2\n",
       "...           ...     ...       ...             ...\n",
       "4419     Portugal       1  Graduate               1\n",
       "4420       Russia       0   Dropout               1\n",
       "4421     Portugal       0   Dropout               1\n",
       "4422     Portugal       0  Graduate               1\n",
       "4423   Cabo Verde       0  Graduate               1\n",
       "\n",
       "[4424 rows x 4 columns]"
      ]
     },
     "execution_count": 96,
     "metadata": {},
     "output_type": "execute_result"
    }
   ],
   "source": [
    "# DataFrame of Gender , Martial status, Target columns\n",
    "# Marital status leger: 1 – single 2 – married 3 – widower 4 – divorced 5 – facto union 6 – legally separated\n",
    "success_per_ms = student_success[['Gender','Target','Marital status']]\n",
    "success_per_ms.reset_index()"
   ]
  },
  {
   "cell_type": "code",
   "execution_count": 97,
   "id": "4827c876",
   "metadata": {},
   "outputs": [
    {
     "data": {
      "text/plain": [
       "Gender  Target    Marital status\n",
       "0       Graduate  1                 1528\n",
       "1       Dropout   1                  593\n",
       "0       Dropout   1                  591\n",
       "1       Graduate  1                  487\n",
       "0       Enrolled  1                  433\n",
       "1       Enrolled  1                  287\n",
       "0       Graduate  2                   96\n",
       "1       Dropout   2                   90\n",
       "0       Dropout   2                   89\n",
       "1       Graduate  2                   52\n",
       "0       Enrolled  2                   36\n",
       "        Dropout   4                   28\n",
       "        Graduate  4                   27\n",
       "1       Enrolled  2                   16\n",
       "0       Enrolled  4                   14\n",
       "1       Dropout   4                   14\n",
       "0       Graduate  5                    9\n",
       "        Dropout   5                    8\n",
       "1       Graduate  4                    6\n",
       "        Dropout   5                    3\n",
       "0       Dropout   6                    3\n",
       "        Enrolled  3                    2\n",
       "1       Enrolled  4                    2\n",
       "                  5                    2\n",
       "        Graduate  5                    2\n",
       "0       Graduate  6                    1\n",
       "        Enrolled  6                    1\n",
       "                  5                    1\n",
       "1       Dropout   6                    1\n",
       "0       Dropout   3                    1\n",
       "1       Graduate  3                    1\n",
       "dtype: int64"
      ]
     },
     "execution_count": 97,
     "metadata": {},
     "output_type": "execute_result"
    }
   ],
   "source": [
    "# Martial Status Counts \n",
    "success_per_ms.value_counts()"
   ]
  },
  {
   "cell_type": "code",
   "execution_count": 98,
   "id": "c4be7733",
   "metadata": {},
   "outputs": [
    {
     "data": {
      "text/html": [
       "<div>\n",
       "<style scoped>\n",
       "    .dataframe tbody tr th:only-of-type {\n",
       "        vertical-align: middle;\n",
       "    }\n",
       "\n",
       "    .dataframe tbody tr th {\n",
       "        vertical-align: top;\n",
       "    }\n",
       "\n",
       "    .dataframe thead th {\n",
       "        text-align: right;\n",
       "    }\n",
       "</style>\n",
       "<table border=\"1\" class=\"dataframe\">\n",
       "  <thead>\n",
       "    <tr style=\"text-align: right;\">\n",
       "      <th></th>\n",
       "      <th>Target</th>\n",
       "      <th>Mother's occupation</th>\n",
       "      <th>Father's occupation</th>\n",
       "    </tr>\n",
       "    <tr>\n",
       "      <th>Country Name</th>\n",
       "      <th></th>\n",
       "      <th></th>\n",
       "      <th></th>\n",
       "    </tr>\n",
       "  </thead>\n",
       "  <tbody>\n",
       "    <tr>\n",
       "      <th>Portugal</th>\n",
       "      <td>Dropout</td>\n",
       "      <td>5</td>\n",
       "      <td>9</td>\n",
       "    </tr>\n",
       "    <tr>\n",
       "      <th>Portugal</th>\n",
       "      <td>Graduate</td>\n",
       "      <td>3</td>\n",
       "      <td>3</td>\n",
       "    </tr>\n",
       "    <tr>\n",
       "      <th>Portugal</th>\n",
       "      <td>Dropout</td>\n",
       "      <td>9</td>\n",
       "      <td>9</td>\n",
       "    </tr>\n",
       "    <tr>\n",
       "      <th>Portugal</th>\n",
       "      <td>Graduate</td>\n",
       "      <td>5</td>\n",
       "      <td>3</td>\n",
       "    </tr>\n",
       "    <tr>\n",
       "      <th>Portugal</th>\n",
       "      <td>Graduate</td>\n",
       "      <td>9</td>\n",
       "      <td>9</td>\n",
       "    </tr>\n",
       "    <tr>\n",
       "      <th>...</th>\n",
       "      <td>...</td>\n",
       "      <td>...</td>\n",
       "      <td>...</td>\n",
       "    </tr>\n",
       "    <tr>\n",
       "      <th>Portugal</th>\n",
       "      <td>Graduate</td>\n",
       "      <td>5</td>\n",
       "      <td>4</td>\n",
       "    </tr>\n",
       "    <tr>\n",
       "      <th>Russia</th>\n",
       "      <td>Dropout</td>\n",
       "      <td>9</td>\n",
       "      <td>9</td>\n",
       "    </tr>\n",
       "    <tr>\n",
       "      <th>Portugal</th>\n",
       "      <td>Dropout</td>\n",
       "      <td>9</td>\n",
       "      <td>9</td>\n",
       "    </tr>\n",
       "    <tr>\n",
       "      <th>Portugal</th>\n",
       "      <td>Graduate</td>\n",
       "      <td>7</td>\n",
       "      <td>4</td>\n",
       "    </tr>\n",
       "    <tr>\n",
       "      <th>Cabo Verde</th>\n",
       "      <td>Graduate</td>\n",
       "      <td>5</td>\n",
       "      <td>9</td>\n",
       "    </tr>\n",
       "  </tbody>\n",
       "</table>\n",
       "<p>4424 rows × 3 columns</p>\n",
       "</div>"
      ],
      "text/plain": [
       "                Target  Mother's occupation  Father's occupation\n",
       "Country Name                                                    \n",
       "Portugal       Dropout                    5                    9\n",
       "Portugal      Graduate                    3                    3\n",
       "Portugal       Dropout                    9                    9\n",
       "Portugal      Graduate                    5                    3\n",
       "Portugal      Graduate                    9                    9\n",
       "...                ...                  ...                  ...\n",
       "Portugal      Graduate                    5                    4\n",
       "Russia         Dropout                    9                    9\n",
       "Portugal       Dropout                    9                    9\n",
       "Portugal      Graduate                    7                    4\n",
       "Cabo Verde    Graduate                    5                    9\n",
       "\n",
       "[4424 rows x 3 columns]"
      ]
     },
     "execution_count": 98,
     "metadata": {},
     "output_type": "execute_result"
    }
   ],
   "source": [
    "# DataFrame of Gender, Parent occuplation( Mother & Father) , Target columns\n",
    "# Mother's occupation: 0 - Student 1 - Representatives of the Legislative Power and Executive Bodies, Directors, Directors and Executive Managers 2 - Specialists in Intellectual and Scientific Activities 3 - Intermediate Level Technicians and Professions 4 - Administrative staff 5 - Personal Services, Security and Safety Workers and Sellers 6 - Farmers and Skilled Workers in Agriculture, Fisheries and Forestry 7 - Skilled Workers in Industry, Construction and Craftsmen 8 - Installation and Machine Operators and Assembly Workers 9 - Unskilled Workers 10 - Armed Forces Professions 90 - Other Situation 99 - (blank) 122 - Health professionals 123 - teachers 125 - Specialists in information and communication technologies (ICT) 131 - Intermediate level science and engineering technicians and professions 132 - Technicians and professionals, of intermediate level of health 134 - Intermediate level technicians from legal, social, sports, cultural and similar services 141 - Office workers, secretaries in general and data processing operators 143 - Data, accounting, statistical, financial services and registry-related operators 144 - Other administrative support staff 151 - personal service workers 152 - sellers 153 - Personal care workers and the like 171 - Skilled construction workers and the like, except electricians 173 - Skilled workers in printing, precision instrument manufacturing, jewelers, artisans and the like 175 - Workers in food processing, woodworking, clothing and other industries and crafts 191 - cleaning workers 192 - Unskilled workers in agriculture, animal production, fisheries and forestry 193 - Unskilled workers in extractive industry, construction, manufacturing and transport 194 - Meal preparation assistants\n",
    "# Father's occupation: 0 - Student 1 - Representatives of the Legislative Power and Executive Bodies, Directors, Directors and Executive Managers 2 - Specialists in Intellectual and Scientific Activities 3 - Intermediate Level Technicians and Professions 4 - Administrative staff 5 - Personal Services, Security and Safety Workers and Sellers 6 - Farmers and Skilled Workers in Agriculture, Fisheries and Forestry 7 - Skilled Workers in Industry, Construction and Craftsmen 8 - Installation and Machine Operators and Assembly Workers 9 - Unskilled Workers 10 - Armed Forces Professions 90 - Other Situation 99 - (blank) 101 - Armed Forces Officers 102 - Armed Forces Sergeants 103 - Other Armed Forces personnel 112 - Directors of administrative and commercial services 114 - Hotel, catering, trade and other services directors 121 - Specialists in the physical sciences, mathematics, engineering and related techniques 122 - Health professionals 123 - teachers 124 - Specialists in finance, accounting, administrative organization, public and commercial relations 131 - Intermediate level science and engineering technicians and professions 132 - Technicians and professionals, of intermediate level of health 134 - Intermediate level technicians from legal, social, sports, cultural and similar services 135 - Information and communication technology technicians 141 - Office workers, secretaries in general and data processing operators 143 - Data, accounting, statistical, financial services and registry-related operators 144 - Other administrative support staff 151 - personal service workers 152 - sellers 153 - Personal care workers and the like 154 - Protection and security services personnel 161 - Market-oriented farmers and skilled agricultural and animal production workers 163 - Farmers, livestock keepers, fishermen, hunters and gatherers, subsistence 171 - Skilled construction workers and the like, except electricians 172 - Skilled workers in metallurgy, metalworking and similar 174 - Skilled workers in electricity and electronics 175 - Workers in food processing, woodworking, clothing and other industries and crafts 181 - Fixed plant and machine operators 182 - assembly workers 183 - Vehicle drivers and mobile equipment operators 192 - Unskilled workers in agriculture, animal production, fisheries and forestry 193 - Unskilled workers in extractive industry, construction, manufacturing and transport 194 - Meal preparation assistants 195 - Street vendors (except food) and street service providers\n",
    "paternal_occup = student_success[['Target',\"Mother's occupation\",\"Father's occupation\"]]\n",
    "paternal_occup"
   ]
  },
  {
   "cell_type": "code",
   "execution_count": 99,
   "id": "9d27c554",
   "metadata": {},
   "outputs": [
    {
     "data": {
      "text/html": [
       "<div>\n",
       "<style scoped>\n",
       "    .dataframe tbody tr th:only-of-type {\n",
       "        vertical-align: middle;\n",
       "    }\n",
       "\n",
       "    .dataframe tbody tr th {\n",
       "        vertical-align: top;\n",
       "    }\n",
       "\n",
       "    .dataframe thead th {\n",
       "        text-align: right;\n",
       "    }\n",
       "</style>\n",
       "<table border=\"1\" class=\"dataframe\">\n",
       "  <thead>\n",
       "    <tr style=\"text-align: right;\">\n",
       "      <th></th>\n",
       "      <th>Target</th>\n",
       "      <th>Mother's occupation</th>\n",
       "      <th>Father's occupation</th>\n",
       "    </tr>\n",
       "    <tr>\n",
       "      <th>Country Name</th>\n",
       "      <th></th>\n",
       "      <th></th>\n",
       "      <th></th>\n",
       "    </tr>\n",
       "  </thead>\n",
       "  <tbody>\n",
       "    <tr>\n",
       "      <th>Portugal</th>\n",
       "      <td>Graduate</td>\n",
       "      <td>3</td>\n",
       "      <td>3</td>\n",
       "    </tr>\n",
       "    <tr>\n",
       "      <th>Portugal</th>\n",
       "      <td>Graduate</td>\n",
       "      <td>5</td>\n",
       "      <td>3</td>\n",
       "    </tr>\n",
       "    <tr>\n",
       "      <th>Portugal</th>\n",
       "      <td>Graduate</td>\n",
       "      <td>9</td>\n",
       "      <td>9</td>\n",
       "    </tr>\n",
       "    <tr>\n",
       "      <th>Portugal</th>\n",
       "      <td>Graduate</td>\n",
       "      <td>9</td>\n",
       "      <td>7</td>\n",
       "    </tr>\n",
       "    <tr>\n",
       "      <th>Portugal</th>\n",
       "      <td>Graduate</td>\n",
       "      <td>7</td>\n",
       "      <td>10</td>\n",
       "    </tr>\n",
       "    <tr>\n",
       "      <th>...</th>\n",
       "      <td>...</td>\n",
       "      <td>...</td>\n",
       "      <td>...</td>\n",
       "    </tr>\n",
       "    <tr>\n",
       "      <th>Portugal</th>\n",
       "      <td>Graduate</td>\n",
       "      <td>9</td>\n",
       "      <td>9</td>\n",
       "    </tr>\n",
       "    <tr>\n",
       "      <th>Portugal</th>\n",
       "      <td>Graduate</td>\n",
       "      <td>3</td>\n",
       "      <td>9</td>\n",
       "    </tr>\n",
       "    <tr>\n",
       "      <th>Portugal</th>\n",
       "      <td>Graduate</td>\n",
       "      <td>5</td>\n",
       "      <td>4</td>\n",
       "    </tr>\n",
       "    <tr>\n",
       "      <th>Portugal</th>\n",
       "      <td>Graduate</td>\n",
       "      <td>7</td>\n",
       "      <td>4</td>\n",
       "    </tr>\n",
       "    <tr>\n",
       "      <th>Cabo Verde</th>\n",
       "      <td>Graduate</td>\n",
       "      <td>5</td>\n",
       "      <td>9</td>\n",
       "    </tr>\n",
       "  </tbody>\n",
       "</table>\n",
       "<p>2209 rows × 3 columns</p>\n",
       "</div>"
      ],
      "text/plain": [
       "                Target  Mother's occupation  Father's occupation\n",
       "Country Name                                                    \n",
       "Portugal      Graduate                    3                    3\n",
       "Portugal      Graduate                    5                    3\n",
       "Portugal      Graduate                    9                    9\n",
       "Portugal      Graduate                    9                    7\n",
       "Portugal      Graduate                    7                   10\n",
       "...                ...                  ...                  ...\n",
       "Portugal      Graduate                    9                    9\n",
       "Portugal      Graduate                    3                    9\n",
       "Portugal      Graduate                    5                    4\n",
       "Portugal      Graduate                    7                    4\n",
       "Cabo Verde    Graduate                    5                    9\n",
       "\n",
       "[2209 rows x 3 columns]"
      ]
     },
     "execution_count": 99,
     "metadata": {},
     "output_type": "execute_result"
    }
   ],
   "source": [
    "# Gradautes per paternal occupation \n",
    "grad_per_po = paternal_occup[paternal_occup['Target']=='Graduate']\n",
    "grad_per_po"
   ]
  },
  {
   "cell_type": "code",
   "execution_count": 100,
   "id": "afe02a65",
   "metadata": {},
   "outputs": [],
   "source": [
    "# diagram of paternal \n"
   ]
  },
  {
   "cell_type": "code",
   "execution_count": 101,
   "id": "6f6d22af",
   "metadata": {},
   "outputs": [
    {
     "data": {
      "text/plain": [
       "Target    Mother's occupation  Father's occupation\n",
       "Graduate  9                    9                      387\n",
       "                               7                      133\n",
       "          5                    5                      106\n",
       "          7                    7                       82\n",
       "          4                    4                       78\n",
       "dtype: int64"
      ]
     },
     "execution_count": 101,
     "metadata": {},
     "output_type": "execute_result"
    }
   ],
   "source": [
    "# Counts of Parent Occupations\n",
    "grad_per_po.value_counts().head()"
   ]
  },
  {
   "cell_type": "code",
   "execution_count": 102,
   "id": "1425ad6f",
   "metadata": {},
   "outputs": [
    {
     "data": {
      "text/plain": [
       "'8.747739602169982'"
      ]
     },
     "execution_count": 102,
     "metadata": {},
     "output_type": "execute_result"
    }
   ],
   "source": [
    "# Mother occup: 9, Father occup: 9 Grads( to total particpant count)\n",
    "percentage(387,total_students)"
   ]
  },
  {
   "cell_type": "code",
   "execution_count": 103,
   "id": "178065b3",
   "metadata": {},
   "outputs": [
    {
     "data": {
      "text/plain": [
       "'3.0063291139240507'"
      ]
     },
     "execution_count": 103,
     "metadata": {},
     "output_type": "execute_result"
    }
   ],
   "source": [
    "# Mother occup: 9, Father occup: 7 ( to total particpant count)\n",
    "percentage(133,total_students)"
   ]
  },
  {
   "cell_type": "code",
   "execution_count": 104,
   "id": "6bc62d09",
   "metadata": {},
   "outputs": [
    {
     "data": {
      "text/plain": [
       "'2.396021699819168'"
      ]
     },
     "execution_count": 104,
     "metadata": {},
     "output_type": "execute_result"
    }
   ],
   "source": [
    "# Mother occup: 5, Father occup: 5 ( to total particpant count)\n",
    "percentage(106,total_students)"
   ]
  },
  {
   "cell_type": "code",
   "execution_count": 105,
   "id": "c638ca31",
   "metadata": {},
   "outputs": [
    {
     "data": {
      "text/plain": [
       "'1.8535262206148282'"
      ]
     },
     "execution_count": 105,
     "metadata": {},
     "output_type": "execute_result"
    }
   ],
   "source": [
    "# Mother occup: 7, Father occup: 7 ( to total particpant count)\n",
    "percentage(82,total_students)"
   ]
  },
  {
   "cell_type": "code",
   "execution_count": 106,
   "id": "bfc7a3c4",
   "metadata": {},
   "outputs": [
    {
     "data": {
      "text/plain": [
       "'1.763110307414105'"
      ]
     },
     "execution_count": 106,
     "metadata": {},
     "output_type": "execute_result"
    }
   ],
   "source": [
    "# Mother occup: 4, Father occup: 4 ( to total particpant count)\n",
    "percentage(78,total_students)"
   ]
  },
  {
   "cell_type": "code",
   "execution_count": 107,
   "id": "d4882f12",
   "metadata": {},
   "outputs": [
    {
     "data": {
      "text/plain": [
       "Mother's occupation  Target  \n",
       "9                    Graduate    823\n",
       "4                    Graduate    422\n",
       "5                    Graduate    280\n",
       "3                    Graduate    177\n",
       "7                    Graduate    144\n",
       "dtype: int64"
      ]
     },
     "execution_count": 107,
     "metadata": {},
     "output_type": "execute_result"
    }
   ],
   "source": [
    "mother_occupation = student_success[[\"Mother's occupation\",'Target']]\n",
    "mother_occupation =  mother_occupation[mother_occupation['Target']=='Graduate']\n",
    "mother_occupation.value_counts().head()"
   ]
  },
  {
   "cell_type": "code",
   "execution_count": 108,
   "id": "518b0677",
   "metadata": {},
   "outputs": [
    {
     "data": {
      "text/plain": [
       "'37.66410140334993'"
      ]
     },
     "execution_count": 108,
     "metadata": {},
     "output_type": "execute_result"
    }
   ],
   "source": [
    "# Mother occupation: 9 Grad % \n",
    "percentage(832,grads)"
   ]
  },
  {
   "cell_type": "code",
   "execution_count": 109,
   "id": "91581df2",
   "metadata": {},
   "outputs": [
    {
     "data": {
      "text/plain": [
       "'19.10366681756451'"
      ]
     },
     "execution_count": 109,
     "metadata": {},
     "output_type": "execute_result"
    }
   ],
   "source": [
    "# Mother occupation: 4 Grad %\n",
    "percentage(422,grads)"
   ]
  },
  {
   "cell_type": "code",
   "execution_count": 110,
   "id": "fd24bec3",
   "metadata": {},
   "outputs": [
    {
     "data": {
      "text/plain": [
       "'12.675418741511995'"
      ]
     },
     "execution_count": 110,
     "metadata": {},
     "output_type": "execute_result"
    }
   ],
   "source": [
    "# Mother occupation: 5 Grad %\n",
    "percentage(280,grads)"
   ]
  },
  {
   "cell_type": "code",
   "execution_count": 111,
   "id": "6a0943de",
   "metadata": {},
   "outputs": [
    {
     "data": {
      "text/plain": [
       "'8.012675418741512'"
      ]
     },
     "execution_count": 111,
     "metadata": {},
     "output_type": "execute_result"
    }
   ],
   "source": [
    "# Mother occupation: 3 Grad %\n",
    "percentage(177,grads)"
   ]
  },
  {
   "cell_type": "code",
   "execution_count": 112,
   "id": "90ecf5c4",
   "metadata": {},
   "outputs": [
    {
     "data": {
      "text/plain": [
       "'6.518786781349027'"
      ]
     },
     "execution_count": 112,
     "metadata": {},
     "output_type": "execute_result"
    }
   ],
   "source": [
    "# Mother occupation: 7 Grad %\n",
    "percentage(144,grads)"
   ]
  },
  {
   "cell_type": "code",
   "execution_count": 113,
   "id": "dba49b1e",
   "metadata": {},
   "outputs": [
    {
     "data": {
      "text/plain": [
       "Father's occupation  Target  \n",
       "9                    Graduate    524\n",
       "7                    Graduate    371\n",
       "5                    Graduate    261\n",
       "3                    Graduate    207\n",
       "4                    Graduate    173\n",
       "dtype: int64"
      ]
     },
     "execution_count": 113,
     "metadata": {},
     "output_type": "execute_result"
    }
   ],
   "source": [
    "father_occupation = student_success[[\"Father's occupation\",'Target']]\n",
    "father_occupation =  father_occupation[father_occupation['Target']=='Graduate']\n",
    "father_occupation.value_counts().head()"
   ]
  },
  {
   "cell_type": "code",
   "execution_count": 114,
   "id": "be3d40c7",
   "metadata": {},
   "outputs": [
    {
     "data": {
      "text/plain": [
       "'23.721140787686736'"
      ]
     },
     "execution_count": 114,
     "metadata": {},
     "output_type": "execute_result"
    }
   ],
   "source": [
    "# Father's occupation: 9  Grad %\n",
    "percentage(524,grads)"
   ]
  },
  {
   "cell_type": "code",
   "execution_count": 115,
   "id": "ebcc1eaf",
   "metadata": {},
   "outputs": [
    {
     "data": {
      "text/plain": [
       "'16.794929832503396'"
      ]
     },
     "execution_count": 115,
     "metadata": {},
     "output_type": "execute_result"
    }
   ],
   "source": [
    "# Father's occupation: 7  Grad %\n",
    "percentage(371,grads)"
   ]
  },
  {
   "cell_type": "code",
   "execution_count": 116,
   "id": "9ac14849",
   "metadata": {},
   "outputs": [
    {
     "data": {
      "text/plain": [
       "'11.815301041195111'"
      ]
     },
     "execution_count": 116,
     "metadata": {},
     "output_type": "execute_result"
    }
   ],
   "source": [
    "# Father's occupation: 5  Grad %\n",
    "percentage(261,grads)"
   ]
  },
  {
   "cell_type": "code",
   "execution_count": 117,
   "id": "d2b7d72c",
   "metadata": {},
   "outputs": [
    {
     "data": {
      "text/plain": [
       "'9.370755998189226'"
      ]
     },
     "execution_count": 117,
     "metadata": {},
     "output_type": "execute_result"
    }
   ],
   "source": [
    "# Father's occupation: 3  Grad %\n",
    "percentage(207,grads)"
   ]
  },
  {
   "cell_type": "code",
   "execution_count": 118,
   "id": "8730b045",
   "metadata": {},
   "outputs": [
    {
     "data": {
      "text/plain": [
       "'7.831598008148484'"
      ]
     },
     "execution_count": 118,
     "metadata": {},
     "output_type": "execute_result"
    }
   ],
   "source": [
    "# Father's occupation: 4  Grad %\n",
    "percentage(173,grads)"
   ]
  },
  {
   "cell_type": "code",
   "execution_count": 119,
   "id": "36064b88",
   "metadata": {},
   "outputs": [
    {
     "data": {
      "text/html": [
       "<div>\n",
       "<style scoped>\n",
       "    .dataframe tbody tr th:only-of-type {\n",
       "        vertical-align: middle;\n",
       "    }\n",
       "\n",
       "    .dataframe tbody tr th {\n",
       "        vertical-align: top;\n",
       "    }\n",
       "\n",
       "    .dataframe thead th {\n",
       "        text-align: right;\n",
       "    }\n",
       "</style>\n",
       "<table border=\"1\" class=\"dataframe\">\n",
       "  <thead>\n",
       "    <tr style=\"text-align: right;\">\n",
       "      <th></th>\n",
       "      <th>Target</th>\n",
       "      <th>Mother's occupation</th>\n",
       "      <th>Father's occupation</th>\n",
       "    </tr>\n",
       "    <tr>\n",
       "      <th>Country Name</th>\n",
       "      <th></th>\n",
       "      <th></th>\n",
       "      <th></th>\n",
       "    </tr>\n",
       "  </thead>\n",
       "  <tbody>\n",
       "    <tr>\n",
       "      <th>Portugal</th>\n",
       "      <td>Dropout</td>\n",
       "      <td>5</td>\n",
       "      <td>9</td>\n",
       "    </tr>\n",
       "    <tr>\n",
       "      <th>Portugal</th>\n",
       "      <td>Dropout</td>\n",
       "      <td>9</td>\n",
       "      <td>9</td>\n",
       "    </tr>\n",
       "    <tr>\n",
       "      <th>Portugal</th>\n",
       "      <td>Dropout</td>\n",
       "      <td>9</td>\n",
       "      <td>9</td>\n",
       "    </tr>\n",
       "    <tr>\n",
       "      <th>Portugal</th>\n",
       "      <td>Dropout</td>\n",
       "      <td>4</td>\n",
       "      <td>7</td>\n",
       "    </tr>\n",
       "    <tr>\n",
       "      <th>Portugal</th>\n",
       "      <td>Dropout</td>\n",
       "      <td>4</td>\n",
       "      <td>9</td>\n",
       "    </tr>\n",
       "    <tr>\n",
       "      <th>...</th>\n",
       "      <td>...</td>\n",
       "      <td>...</td>\n",
       "      <td>...</td>\n",
       "    </tr>\n",
       "    <tr>\n",
       "      <th>Portugal</th>\n",
       "      <td>Dropout</td>\n",
       "      <td>9</td>\n",
       "      <td>9</td>\n",
       "    </tr>\n",
       "    <tr>\n",
       "      <th>Portugal</th>\n",
       "      <td>Dropout</td>\n",
       "      <td>9</td>\n",
       "      <td>3</td>\n",
       "    </tr>\n",
       "    <tr>\n",
       "      <th>Portugal</th>\n",
       "      <td>Dropout</td>\n",
       "      <td>6</td>\n",
       "      <td>6</td>\n",
       "    </tr>\n",
       "    <tr>\n",
       "      <th>Russia</th>\n",
       "      <td>Dropout</td>\n",
       "      <td>9</td>\n",
       "      <td>9</td>\n",
       "    </tr>\n",
       "    <tr>\n",
       "      <th>Portugal</th>\n",
       "      <td>Dropout</td>\n",
       "      <td>9</td>\n",
       "      <td>9</td>\n",
       "    </tr>\n",
       "  </tbody>\n",
       "</table>\n",
       "<p>1421 rows × 3 columns</p>\n",
       "</div>"
      ],
      "text/plain": [
       "               Target  Mother's occupation  Father's occupation\n",
       "Country Name                                                   \n",
       "Portugal      Dropout                    5                    9\n",
       "Portugal      Dropout                    9                    9\n",
       "Portugal      Dropout                    9                    9\n",
       "Portugal      Dropout                    4                    7\n",
       "Portugal      Dropout                    4                    9\n",
       "...               ...                  ...                  ...\n",
       "Portugal      Dropout                    9                    9\n",
       "Portugal      Dropout                    9                    3\n",
       "Portugal      Dropout                    6                    6\n",
       "Russia        Dropout                    9                    9\n",
       "Portugal      Dropout                    9                    9\n",
       "\n",
       "[1421 rows x 3 columns]"
      ]
     },
     "execution_count": 119,
     "metadata": {},
     "output_type": "execute_result"
    }
   ],
   "source": [
    "# Dropouts per paternal occupation \n",
    "grad_per_drop = paternal_occup[paternal_occup['Target']=='Dropout']\n",
    "grad_per_drop"
   ]
  },
  {
   "cell_type": "code",
   "execution_count": 120,
   "id": "365bcf5f",
   "metadata": {},
   "outputs": [
    {
     "data": {
      "text/plain": [
       "Target   Mother's occupation  Father's occupation\n",
       "Dropout  9                    9                      241\n",
       "         0                    0                       69\n",
       "         4                    4                       55\n",
       "         9                    7                       52\n",
       "         5                    5                       52\n",
       "dtype: int64"
      ]
     },
     "execution_count": 120,
     "metadata": {},
     "output_type": "execute_result"
    }
   ],
   "source": [
    "#Counts \n",
    "grad_per_drop.value_counts().head()"
   ]
  },
  {
   "cell_type": "markdown",
   "id": "32438835",
   "metadata": {},
   "source": [
    "## Summary "
   ]
  },
  {
   "cell_type": "markdown",
   "id": "a3f06eaf",
   "metadata": {},
   "source": [
    "Portugal came in first with the most participants making up 97% of the data with 4314 participants. This could be a result of available education in the country or it can be due to the geographic location of the insulation. Brazil came in second with 0.85%. With Turkey, Netherlands, Colombia, Cuba, United Kingdom, and Lithuania coming in under 0.026%. I choose to focus on the educational enrollment of each country (based on the participants' nationality) focusing on 2 features: adjustment net enrollment of lower secondary and tertiary education enrollment. In lower secondary enrollment, Lithuania came first with 99.41, the United Kingdom second with 96.08, and Spain in third with 94.08. Mozambique had the lowest secondary enrollment. When analyzing tertiary education enrollment, Brazil had the highest enrollment with 8072146. Turkey came second with an enrollment of 5472521, and Mexico with the third highest enrollment of 3419391. It was not a surprise to see that Portugal was on the lower end of tertiary education enrollment as a majority of the participants were from Portugal. Indicating a possibility that most students in Portugal seek tertiary education outside of Portugal. \n",
    "Next I proceed to check the admission grades of each county, averaging only the countries with at least 5 participants or more. Cabo Verde came in with the highest admission grade averaging 143.49. Portugal averaged 126.92, Brazil with 121.18, Soa Tome with 132.81, Spain with 128.55, and finally Guinea averaged 124.38. \n",
    "\n",
    "Analyzing the student data, 2209 students graduated while 1421 dropped out. Portugal came up with the highest drop-out with 97.7%. This is not the best global indication as the participants were majority from Portugal.  Brazilian students  had less than <1% drop out rate. Participants from Angola, Colombia, Guinea, Lithuania, Mexico, Russia, Sao Tome, and Ukraine made up less than 2% of the drop-outs.  As expected Portugal resulted with the highest graduation rate with 2155 participants, making up 97.5% of the graduates. Brazilian students came in second again making up less than 1% of the graduates. Guinea, Spain, Italy , Germany, Ukraine, Mexico, Mozambique, Netherlands, Romania, and Uk  made up about 1% of the graduates.  \n",
    "Next I analyzed the relationship between scholarship holder and graduate rates. There were a total of 1099 scholarship holders and 3325 non-scholarship holders. 75% of the scholarship holders graduated ( compared to all scholarship holders); making up 37% compared to the total graduate count. From Portugal 98% of the participants who were scholarship holders graduated while 9% dropped out. Less than 1% of Brazilian, Spaniard, Guinea , and Mexican partiants graduated and dropped out who were scholarship holders. \n",
    "\n",
    "There were a total of 4,424 participants: 2868 female  and 1556 male. Females made up 37% of the graduates and males made up 12% . Portugal had the highest graduating female count with 1619; making up 97% of the female graduates . Italy, the United Kingdom, Germany, Ukraine all tied with 1%. Portugal came in first again with the most males graduating with 692; making up 98% of the male graduates. Lastly I analyzed the relationship between paternal occupation and grad rates. Participants who’s mother’s occupation was “unskilled worker” made up 37% of the graduates while participant’s fathers occupation was “ unskilled worker” made up 23% of the graduates. \n"
   ]
  },
  {
   "cell_type": "code",
   "execution_count": null,
   "id": "87186572",
   "metadata": {},
   "outputs": [],
   "source": []
  }
 ],
 "metadata": {
  "kernelspec": {
   "display_name": "Python 3 (ipykernel)",
   "language": "python",
   "name": "python3"
  },
  "language_info": {
   "codemirror_mode": {
    "name": "ipython",
    "version": 3
   },
   "file_extension": ".py",
   "mimetype": "text/x-python",
   "name": "python",
   "nbconvert_exporter": "python",
   "pygments_lexer": "ipython3",
   "version": "3.10.9"
  }
 },
 "nbformat": 4,
 "nbformat_minor": 5
}
